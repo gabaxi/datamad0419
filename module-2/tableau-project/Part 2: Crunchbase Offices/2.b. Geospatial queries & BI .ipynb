{
 "cells": [
  {
   "cell_type": "markdown",
   "metadata": {},
   "source": [
    "# Geospatial BI & Data Viz Companies - Part 2"
   ]
  },
  {
   "cell_type": "code",
   "execution_count": 72,
   "metadata": {},
   "outputs": [],
   "source": [
    "# import pymongo to connect Python with MongoDB + GEOSPHERE for geoquery\n",
    "from pymongo import MongoClient, GEOSPHERE\n",
    "# to work with stats\n",
    "import pandas as pd\n",
    "# to work with dataframes\n",
    "import numpy as np\n",
    "# to work with json\n",
    "import json\n",
    "from pandas.io.json import json_normalize\n",
    "from flatten_json import flatten\n",
    "# to plot\n",
    "import matplotlib.pyplot as plt\n",
    "%matplotlib inline  \n",
    "import seaborn as sns"
   ]
  },
  {
   "cell_type": "code",
   "execution_count": 75,
   "metadata": {},
   "outputs": [],
   "source": [
    "# connecting on default host and port\n",
    "client = MongoClient ('localhost', 27017)\n",
    "\n",
    "# loading the database\n",
    "db = client['companies_segmentation']\n",
    "\n",
    "# getting the collection\n",
    "companies_segmentation = db['companies_segmentation']"
   ]
  },
  {
   "cell_type": "code",
   "execution_count": 74,
   "metadata": {},
   "outputs": [],
   "source": [
    "# creating index for geoqueries -->  directly in MongoDB\n",
    "#csv 'all_offices_segmentation.csv'"
   ]
  },
  {
   "cell_type": "code",
   "execution_count": 76,
   "metadata": {},
   "outputs": [],
   "source": [
    "# defining the 'near' geoquery function to get the closest offices with the parameters\n",
    "# max distance for search_area is in meters\n",
    "\n",
    "def geoquery_per_geopoint(longitude, latitude, distance): \n",
    "\n",
    "    df_aux = pd.DataFrame(companies_segmentation.find({\"geoquery\":{\"$near\":{\"$geometry\": \n",
    "                    {\"type\":\"Point\",\n",
    "                    \"coordinates\": [longitude , latitude]},\n",
    "                    \"$maxDistance\": distance}}}),\n",
    "                    {'name':1,'type':1,'number_of_employees_bins':1,'founded_year_bins':1,'segment':1})\n",
    "    return df_aux"
   ]
  },
  {
   "cell_type": "code",
   "execution_count": 77,
   "metadata": {},
   "outputs": [],
   "source": [
    "total_data = pd.DataFrame(companies_segmentation.find())"
   ]
  },
  {
   "cell_type": "code",
   "execution_count": 78,
   "metadata": {},
   "outputs": [
    {
     "name": "stdout",
     "output_type": "stream",
     "text": [
      "-122.4169244 37.7768052\n"
     ]
    }
   ],
   "source": [
    "i = 0\n",
    "print(total_data.longitude[i], total_data.latitude[i])"
   ]
  },
  {
   "cell_type": "code",
   "execution_count": 79,
   "metadata": {},
   "outputs": [
    {
     "name": "stdout",
     "output_type": "stream",
     "text": [
      "big company\n"
     ]
    }
   ],
   "source": [
    "print(total_data['type'][i])"
   ]
  },
  {
   "cell_type": "code",
   "execution_count": 81,
   "metadata": {},
   "outputs": [
    {
     "ename": "NameError",
     "evalue": "name 'longitude' is not defined",
     "output_type": "error",
     "traceback": [
      "\u001b[0;31m---------------------------------------------------------------------------\u001b[0m",
      "\u001b[0;31mNameError\u001b[0m                                 Traceback (most recent call last)",
      "\u001b[0;32m<ipython-input-81-f6b8d2af0611>\u001b[0m in \u001b[0;36m<module>\u001b[0;34m\u001b[0m\n\u001b[1;32m      1\u001b[0m \u001b[0mi\u001b[0m\u001b[0;34m=\u001b[0m\u001b[0;36m0\u001b[0m\u001b[0;34m\u001b[0m\u001b[0;34m\u001b[0m\u001b[0m\n\u001b[1;32m      2\u001b[0m \u001b[0mtotal_data\u001b[0m\u001b[0;34m.\u001b[0m\u001b[0mloc\u001b[0m\u001b[0;34m[\u001b[0m\u001b[0mi\u001b[0m\u001b[0;34m,\u001b[0m \u001b[0;34m\"longitude\"\u001b[0m\u001b[0;34m]\u001b[0m\u001b[0;34m,\u001b[0m \u001b[0mtotal_data\u001b[0m\u001b[0;34m.\u001b[0m\u001b[0mloc\u001b[0m\u001b[0;34m[\u001b[0m\u001b[0mi\u001b[0m\u001b[0;34m,\u001b[0m\u001b[0;34m\"latitude\"\u001b[0m\u001b[0;34m]\u001b[0m\u001b[0;34m\u001b[0m\u001b[0;34m\u001b[0m\u001b[0m\n\u001b[0;32m----> 3\u001b[0;31m \u001b[0mone_geoquery\u001b[0m \u001b[0;34m=\u001b[0m \u001b[0mgeoquery_per_geopoint\u001b[0m\u001b[0;34m(\u001b[0m\u001b[0mlongitude\u001b[0m\u001b[0;34m,\u001b[0m \u001b[0mlatitude\u001b[0m\u001b[0;34m,\u001b[0m \u001b[0mdistance\u001b[0m\u001b[0;34m)\u001b[0m\u001b[0;34m\u001b[0m\u001b[0;34m\u001b[0m\u001b[0m\n\u001b[0m",
      "\u001b[0;31mNameError\u001b[0m: name 'longitude' is not defined"
     ]
    }
   ],
   "source": [
    "i=0\n",
    "distance=5000\n",
    "longtotal_data.loc[i, \"longitude\"], total_data.loc[i,\"latitude\"]\n",
    "one_geoquery = geoquery_per_geopoint(longitude, latitude, distance)"
   ]
  },
  {
   "cell_type": "code",
   "execution_count": null,
   "metadata": {},
   "outputs": [],
   "source": [
    "# # analyze the results of each query and create an object/dict so we can append it to the final dataframe of results\n",
    "\n",
    "# def results_per_geoquery(df_aux):\n",
    "    \n",
    "#     companies = len(df_aux)\n",
    "#     startups,bigcompanies,old,recent,gaming,tech = 0,0,0,0,0,0\n",
    "#     for i in range(len(df_aux):\n",
    "#         startups +=1 if (df_aux['type'] == 'startup')\n",
    "#         bigcompanies +=1 if (df_aux['type'][i] == 'big company')\n",
    "#         old +=1 if df_aux['founded_year_bins'][i] == 'q1')\n",
    "#         recent +=1 if (df_aux['founded_year_bins'][i] == 'q4')\n",
    "#         gaming +=1 if (df_aux['segment'][i] == 'gaming')\n",
    "#         tech +=1 if (df_aux['segment'][i] == 'tech')\n",
    "#     results_query = {'companies':companies,\n",
    "#                      'startups':startups*100/companies,\n",
    "#                      'bigcompanies':bigcompanies*100/companies,\n",
    "#                      'old':old*100/companies,\n",
    "#                      'recent':recent*100/companies,\n",
    "#                      'gaming':gaming*100/companies,\n",
    "#                      'tech':tech*100/companies}              \n",
    "    \n",
    "#     return results_query"
   ]
  },
  {
   "cell_type": "code",
   "execution_count": 80,
   "metadata": {},
   "outputs": [],
   "source": [
    "# analyze the results of each query and create an object/dict so we can append it to the final dataframe of results\n",
    "\n",
    "def results_per_geoquery(df_aux):\n",
    "    \n",
    "    companies = len(df_aux)\n",
    "    startups = len(df_aux[df_aux['type'] == 'startup'])*100/companies\n",
    "    bigcompanies = len(df_aux[df_aux['type'] == 'big company'])*100/companies\n",
    "    old = len(df_aux[df_aux['founded_year_bins'] == 'q1'])*100/companies\n",
    "    recent = len(df_aux[df_aux['founded_year_bins'] == 'q4'])*100/companies\n",
    "    gaming = len(df_aux[df_aux['segment'] == 'gaming'])*100/companies\n",
    "    tech = len(df_aux[df_aux['segment'] == 'tech'])*100/companies\n",
    "    results_query = {'companies':companies,'startups':startups,'bigcompanies':bigcompanies,\n",
    "                     'old':old,'recent':recent,'gaming':gaming,'tech':tech}              \n",
    "    \n",
    "    return results_query"
   ]
  },
  {
   "cell_type": "code",
   "execution_count": 63,
   "metadata": {},
   "outputs": [],
   "source": [
    "def concat_results_df(results_df, results_query):\n",
    "    # add query as a new row of the total dataset\n",
    "    #results_df.append(results_query,ignore_index=True)\n",
    "    results_df = pd.concat(results_df,results_query,axis=0,ignore_index=True)\n",
    "    return results_df"
   ]
  },
  {
   "cell_type": "code",
   "execution_count": 66,
   "metadata": {},
   "outputs": [],
   "source": [
    "def loop_geoquery_df(df,distance):\n",
    "    # loop to apply our geoquery to each given location of our database\n",
    "    for i in range(len(df)):\n",
    "        longitude, latitude = df.loc[i, \"longitude\"], df.loc[i,\"latitude\"]\n",
    "        results_query = results_per_geoquery(geoquery_per_geopoint(longitude, latitude, distance))\n",
    "        results_df = concat_results_df(results_df, results_query)\n",
    "    results_total_df = pd.concat([results_df,df], axis=1,ignore_index=True)\n",
    "    return results_total_df"
   ]
  },
  {
   "cell_type": "code",
   "execution_count": 71,
   "metadata": {},
   "outputs": [
    {
     "ename": "ValueError",
     "evalue": "Shape of passed values is (271, 15), indices imply (5, 15)",
     "output_type": "error",
     "traceback": [
      "\u001b[0;31m---------------------------------------------------------------------------\u001b[0m",
      "\u001b[0;31mValueError\u001b[0m                                Traceback (most recent call last)",
      "\u001b[0;32m~/.local/lib/python3.6/site-packages/pandas/core/internals/managers.py\u001b[0m in \u001b[0;36mcreate_block_manager_from_arrays\u001b[0;34m(arrays, names, axes)\u001b[0m\n\u001b[1;32m   1666\u001b[0m         \u001b[0mblocks\u001b[0m \u001b[0;34m=\u001b[0m \u001b[0mform_blocks\u001b[0m\u001b[0;34m(\u001b[0m\u001b[0marrays\u001b[0m\u001b[0;34m,\u001b[0m \u001b[0mnames\u001b[0m\u001b[0;34m,\u001b[0m \u001b[0maxes\u001b[0m\u001b[0;34m)\u001b[0m\u001b[0;34m\u001b[0m\u001b[0;34m\u001b[0m\u001b[0m\n\u001b[0;32m-> 1667\u001b[0;31m         \u001b[0mmgr\u001b[0m \u001b[0;34m=\u001b[0m \u001b[0mBlockManager\u001b[0m\u001b[0;34m(\u001b[0m\u001b[0mblocks\u001b[0m\u001b[0;34m,\u001b[0m \u001b[0maxes\u001b[0m\u001b[0;34m)\u001b[0m\u001b[0;34m\u001b[0m\u001b[0;34m\u001b[0m\u001b[0m\n\u001b[0m\u001b[1;32m   1668\u001b[0m         \u001b[0mmgr\u001b[0m\u001b[0;34m.\u001b[0m\u001b[0m_consolidate_inplace\u001b[0m\u001b[0;34m(\u001b[0m\u001b[0;34m)\u001b[0m\u001b[0;34m\u001b[0m\u001b[0;34m\u001b[0m\u001b[0m\n",
      "\u001b[0;32m~/.local/lib/python3.6/site-packages/pandas/core/internals/managers.py\u001b[0m in \u001b[0;36m__init__\u001b[0;34m(self, blocks, axes, do_integrity_check)\u001b[0m\n\u001b[1;32m    113\u001b[0m         \u001b[0;32mif\u001b[0m \u001b[0mdo_integrity_check\u001b[0m\u001b[0;34m:\u001b[0m\u001b[0;34m\u001b[0m\u001b[0;34m\u001b[0m\u001b[0m\n\u001b[0;32m--> 114\u001b[0;31m             \u001b[0mself\u001b[0m\u001b[0;34m.\u001b[0m\u001b[0m_verify_integrity\u001b[0m\u001b[0;34m(\u001b[0m\u001b[0;34m)\u001b[0m\u001b[0;34m\u001b[0m\u001b[0;34m\u001b[0m\u001b[0m\n\u001b[0m\u001b[1;32m    115\u001b[0m \u001b[0;34m\u001b[0m\u001b[0m\n",
      "\u001b[0;32m~/.local/lib/python3.6/site-packages/pandas/core/internals/managers.py\u001b[0m in \u001b[0;36m_verify_integrity\u001b[0;34m(self)\u001b[0m\n\u001b[1;32m    310\u001b[0m             \u001b[0;32mif\u001b[0m \u001b[0mblock\u001b[0m\u001b[0;34m.\u001b[0m\u001b[0m_verify_integrity\u001b[0m \u001b[0;32mand\u001b[0m \u001b[0mblock\u001b[0m\u001b[0;34m.\u001b[0m\u001b[0mshape\u001b[0m\u001b[0;34m[\u001b[0m\u001b[0;36m1\u001b[0m\u001b[0;34m:\u001b[0m\u001b[0;34m]\u001b[0m \u001b[0;34m!=\u001b[0m \u001b[0mmgr_shape\u001b[0m\u001b[0;34m[\u001b[0m\u001b[0;36m1\u001b[0m\u001b[0;34m:\u001b[0m\u001b[0;34m]\u001b[0m\u001b[0;34m:\u001b[0m\u001b[0;34m\u001b[0m\u001b[0;34m\u001b[0m\u001b[0m\n\u001b[0;32m--> 311\u001b[0;31m                 \u001b[0mconstruction_error\u001b[0m\u001b[0;34m(\u001b[0m\u001b[0mtot_items\u001b[0m\u001b[0;34m,\u001b[0m \u001b[0mblock\u001b[0m\u001b[0;34m.\u001b[0m\u001b[0mshape\u001b[0m\u001b[0;34m[\u001b[0m\u001b[0;36m1\u001b[0m\u001b[0;34m:\u001b[0m\u001b[0;34m]\u001b[0m\u001b[0;34m,\u001b[0m \u001b[0mself\u001b[0m\u001b[0;34m.\u001b[0m\u001b[0maxes\u001b[0m\u001b[0;34m)\u001b[0m\u001b[0;34m\u001b[0m\u001b[0;34m\u001b[0m\u001b[0m\n\u001b[0m\u001b[1;32m    312\u001b[0m         \u001b[0;32mif\u001b[0m \u001b[0mlen\u001b[0m\u001b[0;34m(\u001b[0m\u001b[0mself\u001b[0m\u001b[0;34m.\u001b[0m\u001b[0mitems\u001b[0m\u001b[0;34m)\u001b[0m \u001b[0;34m!=\u001b[0m \u001b[0mtot_items\u001b[0m\u001b[0;34m:\u001b[0m\u001b[0;34m\u001b[0m\u001b[0;34m\u001b[0m\u001b[0m\n",
      "\u001b[0;32m~/.local/lib/python3.6/site-packages/pandas/core/internals/managers.py\u001b[0m in \u001b[0;36mconstruction_error\u001b[0;34m(tot_items, block_shape, axes, e)\u001b[0m\n\u001b[1;32m   1690\u001b[0m     raise ValueError(\"Shape of passed values is {0}, indices imply {1}\".format(\n\u001b[0;32m-> 1691\u001b[0;31m         passed, implied))\n\u001b[0m\u001b[1;32m   1692\u001b[0m \u001b[0;34m\u001b[0m\u001b[0m\n",
      "\u001b[0;31mValueError\u001b[0m: Shape of passed values is (271, 15), indices imply (5, 15)",
      "\nDuring handling of the above exception, another exception occurred:\n",
      "\u001b[0;31mValueError\u001b[0m                                Traceback (most recent call last)",
      "\u001b[0;32m<ipython-input-71-7604352a3d58>\u001b[0m in \u001b[0;36m<module>\u001b[0;34m\u001b[0m\n\u001b[1;32m      4\u001b[0m \u001b[0mresults_df\u001b[0m \u001b[0;34m=\u001b[0m \u001b[0mpd\u001b[0m\u001b[0;34m.\u001b[0m\u001b[0mDataFrame\u001b[0m\u001b[0;34m(\u001b[0m\u001b[0mcolumns\u001b[0m\u001b[0;34m=\u001b[0m\u001b[0;34m[\u001b[0m\u001b[0;34m'companies'\u001b[0m\u001b[0;34m,\u001b[0m\u001b[0;34m'startups'\u001b[0m\u001b[0;34m,\u001b[0m\u001b[0;34m'big_companies'\u001b[0m\u001b[0;34m,\u001b[0m\u001b[0;34m'recent'\u001b[0m\u001b[0;34m,\u001b[0m\u001b[0;34m'old'\u001b[0m\u001b[0;34m,\u001b[0m\u001b[0;34m'gaming'\u001b[0m\u001b[0;34m,\u001b[0m\u001b[0;34m'tech'\u001b[0m\u001b[0;34m]\u001b[0m\u001b[0;34m)\u001b[0m\u001b[0;34m\u001b[0m\u001b[0;34m\u001b[0m\u001b[0m\n\u001b[1;32m      5\u001b[0m \u001b[0;34m\u001b[0m\u001b[0m\n\u001b[0;32m----> 6\u001b[0;31m \u001b[0mresults_total_df\u001b[0m \u001b[0;34m=\u001b[0m \u001b[0mloop_geoquery_df\u001b[0m\u001b[0;34m(\u001b[0m\u001b[0mtotal_data\u001b[0m\u001b[0;34m,\u001b[0m\u001b[0;36m5000\u001b[0m\u001b[0;34m)\u001b[0m\u001b[0;34m\u001b[0m\u001b[0;34m\u001b[0m\u001b[0m\n\u001b[0m\u001b[1;32m      7\u001b[0m \u001b[0mresults_total_df\u001b[0m\u001b[0;34m.\u001b[0m\u001b[0mhead\u001b[0m\u001b[0;34m(\u001b[0m\u001b[0;34m)\u001b[0m\u001b[0;34m\u001b[0m\u001b[0;34m\u001b[0m\u001b[0m\n",
      "\u001b[0;32m<ipython-input-66-a9f2b6db54d8>\u001b[0m in \u001b[0;36mloop_geoquery_df\u001b[0;34m(df, distance)\u001b[0m\n\u001b[1;32m      3\u001b[0m     \u001b[0;32mfor\u001b[0m \u001b[0mi\u001b[0m \u001b[0;32min\u001b[0m \u001b[0mrange\u001b[0m\u001b[0;34m(\u001b[0m\u001b[0mlen\u001b[0m\u001b[0;34m(\u001b[0m\u001b[0mdf\u001b[0m\u001b[0;34m)\u001b[0m\u001b[0;34m)\u001b[0m\u001b[0;34m:\u001b[0m\u001b[0;34m\u001b[0m\u001b[0;34m\u001b[0m\u001b[0m\n\u001b[1;32m      4\u001b[0m         \u001b[0mlongitude\u001b[0m\u001b[0;34m,\u001b[0m \u001b[0mlatitude\u001b[0m \u001b[0;34m=\u001b[0m \u001b[0mdf\u001b[0m\u001b[0;34m.\u001b[0m\u001b[0mloc\u001b[0m\u001b[0;34m[\u001b[0m\u001b[0mi\u001b[0m\u001b[0;34m,\u001b[0m \u001b[0;34m\"longitude\"\u001b[0m\u001b[0;34m]\u001b[0m\u001b[0;34m,\u001b[0m \u001b[0mdf\u001b[0m\u001b[0;34m.\u001b[0m\u001b[0mloc\u001b[0m\u001b[0;34m[\u001b[0m\u001b[0mi\u001b[0m\u001b[0;34m,\u001b[0m\u001b[0;34m\"latitude\"\u001b[0m\u001b[0;34m]\u001b[0m\u001b[0;34m\u001b[0m\u001b[0;34m\u001b[0m\u001b[0m\n\u001b[0;32m----> 5\u001b[0;31m         \u001b[0mresults_query\u001b[0m \u001b[0;34m=\u001b[0m \u001b[0mresults_per_geoquery\u001b[0m\u001b[0;34m(\u001b[0m\u001b[0mgeoquery_per_geopoint\u001b[0m\u001b[0;34m(\u001b[0m\u001b[0mlongitude\u001b[0m\u001b[0;34m,\u001b[0m \u001b[0mlatitude\u001b[0m\u001b[0;34m,\u001b[0m \u001b[0mdistance\u001b[0m\u001b[0;34m)\u001b[0m\u001b[0;34m)\u001b[0m\u001b[0;34m\u001b[0m\u001b[0;34m\u001b[0m\u001b[0m\n\u001b[0m\u001b[1;32m      6\u001b[0m         \u001b[0mresults_df\u001b[0m \u001b[0;34m=\u001b[0m \u001b[0mconcat_results_df\u001b[0m\u001b[0;34m(\u001b[0m\u001b[0mresults_df\u001b[0m\u001b[0;34m,\u001b[0m \u001b[0mresults_query\u001b[0m\u001b[0;34m)\u001b[0m\u001b[0;34m\u001b[0m\u001b[0;34m\u001b[0m\u001b[0m\n\u001b[1;32m      7\u001b[0m     \u001b[0mresults_total_df\u001b[0m \u001b[0;34m=\u001b[0m \u001b[0mpd\u001b[0m\u001b[0;34m.\u001b[0m\u001b[0mconcat\u001b[0m\u001b[0;34m(\u001b[0m\u001b[0;34m[\u001b[0m\u001b[0mresults_df\u001b[0m\u001b[0;34m,\u001b[0m\u001b[0mdf\u001b[0m\u001b[0;34m]\u001b[0m\u001b[0;34m,\u001b[0m \u001b[0maxis\u001b[0m\u001b[0;34m=\u001b[0m\u001b[0;36m1\u001b[0m\u001b[0;34m,\u001b[0m\u001b[0mignore_index\u001b[0m\u001b[0;34m=\u001b[0m\u001b[0;32mTrue\u001b[0m\u001b[0;34m)\u001b[0m\u001b[0;34m\u001b[0m\u001b[0;34m\u001b[0m\u001b[0m\n",
      "\u001b[0;32m<ipython-input-55-05326892e468>\u001b[0m in \u001b[0;36mgeoquery_per_geopoint\u001b[0;34m(longitude, latitude, distance)\u001b[0m\n\u001b[1;32m      8\u001b[0m                     \"coordinates\": [longitude , latitude]},\n\u001b[1;32m      9\u001b[0m                     \"$maxDistance\": distance}}}),\n\u001b[0;32m---> 10\u001b[0;31m                     {'name':1,'type':1,'number_of_employees_bins':1,'founded_year_bins':1,'segment':1})\n\u001b[0m\u001b[1;32m     11\u001b[0m     \u001b[0;32mreturn\u001b[0m \u001b[0mdf_aux\u001b[0m\u001b[0;34m\u001b[0m\u001b[0;34m\u001b[0m\u001b[0m\n",
      "\u001b[0;32m~/.local/lib/python3.6/site-packages/pandas/core/frame.py\u001b[0m in \u001b[0;36m__init__\u001b[0;34m(self, data, index, columns, dtype, copy)\u001b[0m\n\u001b[1;32m    446\u001b[0m \u001b[0;34m\u001b[0m\u001b[0m\n\u001b[1;32m    447\u001b[0m                     mgr = arrays_to_mgr(arrays, columns, index, columns,\n\u001b[0;32m--> 448\u001b[0;31m                                         dtype=dtype)\n\u001b[0m\u001b[1;32m    449\u001b[0m                 \u001b[0;32melse\u001b[0m\u001b[0;34m:\u001b[0m\u001b[0;34m\u001b[0m\u001b[0;34m\u001b[0m\u001b[0m\n\u001b[1;32m    450\u001b[0m                     mgr = init_ndarray(data, index, columns, dtype=dtype,\n",
      "\u001b[0;32m~/.local/lib/python3.6/site-packages/pandas/core/internals/construction.py\u001b[0m in \u001b[0;36marrays_to_mgr\u001b[0;34m(arrays, arr_names, index, columns, dtype)\u001b[0m\n\u001b[1;32m     59\u001b[0m     \u001b[0maxes\u001b[0m \u001b[0;34m=\u001b[0m \u001b[0;34m[\u001b[0m\u001b[0mensure_index\u001b[0m\u001b[0;34m(\u001b[0m\u001b[0mcolumns\u001b[0m\u001b[0;34m)\u001b[0m\u001b[0;34m,\u001b[0m \u001b[0mindex\u001b[0m\u001b[0;34m]\u001b[0m\u001b[0;34m\u001b[0m\u001b[0;34m\u001b[0m\u001b[0m\n\u001b[1;32m     60\u001b[0m \u001b[0;34m\u001b[0m\u001b[0m\n\u001b[0;32m---> 61\u001b[0;31m     \u001b[0;32mreturn\u001b[0m \u001b[0mcreate_block_manager_from_arrays\u001b[0m\u001b[0;34m(\u001b[0m\u001b[0marrays\u001b[0m\u001b[0;34m,\u001b[0m \u001b[0marr_names\u001b[0m\u001b[0;34m,\u001b[0m \u001b[0maxes\u001b[0m\u001b[0;34m)\u001b[0m\u001b[0;34m\u001b[0m\u001b[0;34m\u001b[0m\u001b[0m\n\u001b[0m\u001b[1;32m     62\u001b[0m \u001b[0;34m\u001b[0m\u001b[0m\n\u001b[1;32m     63\u001b[0m \u001b[0;34m\u001b[0m\u001b[0m\n",
      "\u001b[0;32m~/.local/lib/python3.6/site-packages/pandas/core/internals/managers.py\u001b[0m in \u001b[0;36mcreate_block_manager_from_arrays\u001b[0;34m(arrays, names, axes)\u001b[0m\n\u001b[1;32m   1669\u001b[0m         \u001b[0;32mreturn\u001b[0m \u001b[0mmgr\u001b[0m\u001b[0;34m\u001b[0m\u001b[0;34m\u001b[0m\u001b[0m\n\u001b[1;32m   1670\u001b[0m     \u001b[0;32mexcept\u001b[0m \u001b[0mValueError\u001b[0m \u001b[0;32mas\u001b[0m \u001b[0me\u001b[0m\u001b[0;34m:\u001b[0m\u001b[0;34m\u001b[0m\u001b[0;34m\u001b[0m\u001b[0m\n\u001b[0;32m-> 1671\u001b[0;31m         \u001b[0mconstruction_error\u001b[0m\u001b[0;34m(\u001b[0m\u001b[0mlen\u001b[0m\u001b[0;34m(\u001b[0m\u001b[0marrays\u001b[0m\u001b[0;34m)\u001b[0m\u001b[0;34m,\u001b[0m \u001b[0marrays\u001b[0m\u001b[0;34m[\u001b[0m\u001b[0;36m0\u001b[0m\u001b[0;34m]\u001b[0m\u001b[0;34m.\u001b[0m\u001b[0mshape\u001b[0m\u001b[0;34m,\u001b[0m \u001b[0maxes\u001b[0m\u001b[0;34m,\u001b[0m \u001b[0me\u001b[0m\u001b[0;34m)\u001b[0m\u001b[0;34m\u001b[0m\u001b[0;34m\u001b[0m\u001b[0m\n\u001b[0m\u001b[1;32m   1672\u001b[0m \u001b[0;34m\u001b[0m\u001b[0m\n\u001b[1;32m   1673\u001b[0m \u001b[0;34m\u001b[0m\u001b[0m\n",
      "\u001b[0;32m~/.local/lib/python3.6/site-packages/pandas/core/internals/managers.py\u001b[0m in \u001b[0;36mconstruction_error\u001b[0;34m(tot_items, block_shape, axes, e)\u001b[0m\n\u001b[1;32m   1689\u001b[0m         \u001b[0;32mraise\u001b[0m \u001b[0mValueError\u001b[0m\u001b[0;34m(\u001b[0m\u001b[0;34m\"Empty data passed with indices specified.\"\u001b[0m\u001b[0;34m)\u001b[0m\u001b[0;34m\u001b[0m\u001b[0;34m\u001b[0m\u001b[0m\n\u001b[1;32m   1690\u001b[0m     raise ValueError(\"Shape of passed values is {0}, indices imply {1}\".format(\n\u001b[0;32m-> 1691\u001b[0;31m         passed, implied))\n\u001b[0m\u001b[1;32m   1692\u001b[0m \u001b[0;34m\u001b[0m\u001b[0m\n\u001b[1;32m   1693\u001b[0m \u001b[0;34m\u001b[0m\u001b[0m\n",
      "\u001b[0;31mValueError\u001b[0m: Shape of passed values is (271, 15), indices imply (5, 15)"
     ]
    }
   ],
   "source": [
    "# create empty total DataFrame to join results dataframe to our initial offices dataframe\n",
    "\n",
    "# create empty total results dataframe to append all subdataframes (results) of each query\n",
    "results_df = pd.DataFrame(columns=['companies','startups','big_companies','recent','old','gaming','tech'])\n",
    "\n",
    "results_total_df = loop_geoquery_df(total_data,5000)\n",
    "results_total_df.head()"
   ]
  },
  {
   "cell_type": "code",
   "execution_count": null,
   "metadata": {},
   "outputs": [],
   "source": []
  },
  {
   "cell_type": "code",
   "execution_count": null,
   "metadata": {},
   "outputs": [],
   "source": [
    "len(total_data[total_data['type'] == 'startup'])*100/len(total_data)"
   ]
  },
  {
   "cell_type": "code",
   "execution_count": null,
   "metadata": {},
   "outputs": [],
   "source": [
    "d= {'1':'a', '2':'b', '3':'c'}\n",
    "d\n",
    "j = pd.DataFrame(columns=['1','2','3'])\n",
    "#concatenate(j,d)\n",
    "f = j.append(d,ignore_index=True)\n",
    "f"
   ]
  },
  {
   "cell_type": "code",
   "execution_count": null,
   "metadata": {},
   "outputs": [],
   "source": [
    "near_geoquery(total_data, 5000)"
   ]
  },
  {
   "cell_type": "code",
   "execution_count": null,
   "metadata": {},
   "outputs": [],
   "source": [
    "i = 0\n",
    "print(total_data.longitude[i], total_data.latitude[i])"
   ]
  },
  {
   "cell_type": "code",
   "execution_count": null,
   "metadata": {},
   "outputs": [],
   "source": [
    "print(total_data.loc[i, \"longitude\"] , total_data.loc[i,\"latitude\"])"
   ]
  },
  {
   "cell_type": "code",
   "execution_count": 70,
   "metadata": {},
   "outputs": [],
   "source": [
    "i = 0\n",
    "search_area = 5000 # meters = 5 km\n",
    "\n",
    "cursor = list(companies_segmentation.find({\"geoquery\":{\"$near\":{\"$geometry\": \n",
    "                {\"type\":\"Point\",\n",
    "                \"coordinates\": [total_data.longitude[i] , total_data.latitude[i]]},\n",
    "                \"$maxDistance\": search_area}}}))"
   ]
  },
  {
   "cell_type": "code",
   "execution_count": null,
   "metadata": {},
   "outputs": [],
   "source": [
    "# for geo in range(len(geoquery_array)):\n",
    "#     # we define the limit of our search area\n",
    "#     search_area=10000\n",
    "#     # we stock cursor results in a dataframe\n",
    "#     appended_data = []\n",
    "#     data_geo = pd.DataFrame(list(near_geoquery(geo['longitude'], geo['latitude'], search_area)))\n",
    "#     # store DataFrame in list\n",
    "#     appended_data.append(data_geo)\n",
    "#     # we concat dataframes\n",
    "#     appended_data = pd.concat(appended_data, axis=1)\n",
    "\n",
    "# appended_data.head()"
   ]
  },
  {
   "cell_type": "code",
   "execution_count": null,
   "metadata": {},
   "outputs": [],
   "source": [
    "# defining the 'near' geoquery function to get the closest offices with the parameters\n",
    "# max distance for search_area is in meters\n",
    "\n",
    "# def near_geoquery(df,search_area):\n",
    "#     # we will create different lists for the given results:\n",
    "#     total_companies = [] \n",
    "#     startups = []                 #--> we want a good ratio over total companies\n",
    "#     big_companies = []             #--> we want a good ratio \n",
    "#     recent = []  #q4 founded year --> we want to be the closest possible\n",
    "#     old = []     #q1 founded year --> we prefer to be the most far away from them\n",
    "#     gaming = []                  #--> we want to cover our team interests / networking\n",
    "#     tech = []                    #--> we want software engineers near us/ours\n",
    "    \n",
    "#     # loop to apply our geoquery to each given location of our database\n",
    "#     for i in range(len(df)):\n",
    "#         print(i)\n",
    "#         df_aux = pd.DataFrame(companies_segmentation.find({\"geopoint\":{\"$near\":{\"$geometry\": \n",
    "#                 {\"type\":\"Point\",\n",
    "#                 \"coordinates\": [df.loc[i, \"longitude\"] , df.loc[i,\"latitude\"]]},\n",
    "#                 \"$maxDistance\": search_area}}})\n",
    "                  \n",
    "#         print('companies:',len(df_aux))\n",
    "#         print('startups',len(df_aux[df_aux.type == 'startup'])/companies)\n",
    "#         print('big_companies',len(df_aux[df_aux.type == 'big company'])/companies)\n",
    "#         print('recent',len(df_aux[df_aux.founded_year_bins == 'q1'])/companies)\n",
    "#         print('old',len(df_aux[df_aux.founded_year_bins == 'q4'])/companies)\n",
    "#         print('gaming',len(df_aux[df_aux.segment == 'gaming'])/companies) \n",
    "#         print('tech',len(df_aux[df_aux.segment == 'tech'])/companies)\n",
    "\n",
    "#         total_companies.append(len(df_aux))\n",
    "# #         # we will append each geoquery results to our lists   \n",
    "# #         companies = len(df_aux)\n",
    "# #         # but for all criteria, we will normalize, so it won't depend on the nb of companies per city/country \n",
    "# #         total_companies.append(companies)\n",
    "# #         startups.append(len(df_aux[df_aux.type == 'startup'])/companies)   \n",
    "# #         big_companies.append(len(df_aux[df_aux.type == 'big company'])/companies)        \n",
    "# #         recent.append(len(df_aux[df_aux.founded_year_bins == 'q1'])/companies) \n",
    "# #         old.append(len(df_aux[df_aux.founded_year_bins == 'q4'])/companies) \n",
    "# #         gaming.append(len(df_aux[df_aux.segment == 'gaming'])/companies) \n",
    "# #         tech.append(len(df_aux[df_aux.segment == 'tech'])/companies) \n",
    "    \n",
    "# #     # the function will return a dataframe with specific results (criteria) from cursors geoqueries:\n",
    "# #     df['total_companies'] = total_companies    \n",
    "# #     df['r_startups'] = startups\n",
    "# #     df['r_big_companies'] = big_companies\n",
    "# #     df['r_recent'] = recent\n",
    "# #     df['r_old'] = old\n",
    "# #     df['r_gaming'] = gaming\n",
    "# #     df['r_tech'] = tech\n",
    "\n",
    "#     return total_companies"
   ]
  }
 ],
 "metadata": {
  "kernelspec": {
   "display_name": "Python 3",
   "language": "python",
   "name": "python3"
  },
  "language_info": {
   "codemirror_mode": {
    "name": "ipython",
    "version": 3
   },
   "file_extension": ".py",
   "mimetype": "text/x-python",
   "name": "python",
   "nbconvert_exporter": "python",
   "pygments_lexer": "ipython3",
   "version": "3.6.7"
  }
 },
 "nbformat": 4,
 "nbformat_minor": 2
}
