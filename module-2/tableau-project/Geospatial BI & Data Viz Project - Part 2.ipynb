{
 "cells": [
  {
   "cell_type": "markdown",
   "metadata": {},
   "source": [
    "- VISUALIZATION PROJECT Geospatial Business Intelligence (BI)\n",
    "    * Make a geospatial analysis of the `companies` dataset\n",
    "    * Things you know:\n",
    "        - You have a software company with 50 employees\n",
    "        - The company creates video games\n",
    "        - Roles in your company: 20 developers, 20 Designers/Creatives/UX/UI and 10 executives/managers\n",
    "    * Do an analysis about placing the new company offices in the best environment based on the following criteria:\n",
    "        - There should be software engineers working around\n",
    "        - The surroundings must have a good ratio of big companies vs startups\n",
    "        - Ensure you have in your surroundings companies that cover the interests of your team\n",
    "        - Avoid old companies, prefer recently created ones"
   ]
  },
  {
   "cell_type": "markdown",
   "metadata": {},
   "source": [
    "### tech & videogames / entertainment\n",
    "description: 'software','technology', 'Platform'\n",
    "overview\n",
    "category_code: 'entreprise','web', software\n",
    "tag_list\n",
    "\n",
    "### big companies Vs startups\n",
    "number_of_employees\n",
    "founded_year\n",
    "\n"
   ]
  },
  {
   "cell_type": "code",
   "execution_count": null,
   "metadata": {},
   "outputs": [],
   "source": []
  },
  {
   "cell_type": "code",
   "execution_count": null,
   "metadata": {},
   "outputs": [],
   "source": []
  },
  {
   "cell_type": "code",
   "execution_count": null,
   "metadata": {},
   "outputs": [],
   "source": []
  },
  {
   "cell_type": "code",
   "execution_count": null,
   "metadata": {},
   "outputs": [],
   "source": []
  }
 ],
 "metadata": {
  "kernelspec": {
   "display_name": "Python 3",
   "language": "python",
   "name": "python3"
  },
  "language_info": {
   "codemirror_mode": {
    "name": "ipython",
    "version": 3
   },
   "file_extension": ".py",
   "mimetype": "text/x-python",
   "name": "python",
   "nbconvert_exporter": "python",
   "pygments_lexer": "ipython3",
   "version": "3.6.7"
  }
 },
 "nbformat": 4,
 "nbformat_minor": 2
}
