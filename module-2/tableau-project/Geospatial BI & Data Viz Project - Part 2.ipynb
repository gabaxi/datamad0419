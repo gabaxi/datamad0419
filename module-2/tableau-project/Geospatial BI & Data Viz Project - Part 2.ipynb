{
 "cells": [
  {
   "cell_type": "markdown",
   "metadata": {},
   "source": [
    "# Geospatial BI & Data Viz Project - Part 2"
   ]
  },
  {
   "cell_type": "markdown",
   "metadata": {},
   "source": [
    "- VISUALIZATION PROJECT Geospatial Business Intelligence (BI)\n",
    "    * Make a geospatial analysis of the `companies` dataset\n",
    "    * Things you know:\n",
    "        - You have a software company with 50 employees\n",
    "        - The company creates video games\n",
    "        - Roles in your company: 20 developers, 20 Designers/Creatives/UX/UI and 10 executives/managers\n",
    "    * Do an analysis about placing the new company offices in the best environment based on the following criteria:\n",
    "        - There should be software engineers working around\n",
    "        - The surroundings must have a good ratio of big companies vs startups\n",
    "        - Ensure you have in your surroundings companies that cover the interests of your team\n",
    "        - Avoid old companies, prefer recently created ones"
   ]
  },
  {
   "cell_type": "code",
   "execution_count": 1,
   "metadata": {},
   "outputs": [],
   "source": [
    "# import pymongo to connect Python with MongoDB\n",
    "from pymongo import MongoClient\n",
    "# to work with stats\n",
    "import pandas as pd\n",
    "# to work with dataframes\n",
    "import numpy as np\n",
    "# to work with json\n",
    "from pandas.io.json import json_normalize"
   ]
  },
  {
   "cell_type": "markdown",
   "metadata": {},
   "source": [
    "### 1. Prepare the data: extract from the companies database the relevant information for the challenge.\n",
    "\n",
    "* company identification\n",
    "    - id (just in case we would need to get more information later)\n",
    "    - name\n",
    "* only currently active company\n",
    "    - 'deadpooled_year' --> not none\n",
    "    \n",
    "* for geolocation analysis & geospatial visualization\n",
    "    - offices.latitude, offices.longitude --> not null\n",
    "    - offices.country_code, offices.city --> not null\n",
    "\n",
    "* to determine if the company is old (negative) o recent (positive)\n",
    "    - founded_year --> not null\n",
    "\n",
    "* to define if it's a small (startup) or a big company:\n",
    "    - number_of_employees --> company size (make sure there are not ficticious and have >= 1 employee)\n",
    "    - investments.funding_round.round_code: 'Angel','seed' --> to associate to startup category\n",
    "    https://support.crunchbase.com/hc/en-us/articles/115010458467-Glossary-of-Funding-Types\n",
    "    - investments.funding_round.funded_year\n",
    "    - ipo.pub_year,ipo.valuation_amount --> to associate with big company   \n",
    "\n",
    "* to match with our team interests: technology & videogames\n",
    "    - category_code: 'software', 'web', 'games_video' --> to filter as 'best match' for our team --> not null\n",
    "    - description: 'software','technology', 'Platform','Social network' --> for a qualitative analysis\n",
    "    - tag_list: 'network', 'online-communities','projects', etc --> for a qualitative analysis"
   ]
  },
  {
   "cell_type": "code",
   "execution_count": 11,
   "metadata": {},
   "outputs": [],
   "source": [
    "# connecting on default host and port\n",
    "client = MongoClient ('localhost', 27017)\n",
    "\n",
    "# loading the database\n",
    "db = client['companies']\n",
    "\n",
    "# getting the collection\n",
    "companies = db['companies']\n",
    "\n",
    "# defining query to get the relevant information\n",
    "query = db.companies.find({'$and':[{'founded_year':{'$ne': 'null'}},{'category_code':{'$ne': 'null'}},\n",
    "{'deadpooled_year':None},{'number_of_employees':{'$gte':1}},{'offices.latitude':{'$ne': 'null'}},{'offices.longitude': {'$ne': 'null'}},\n",
    "{'offices.country_code':{'$ne': 'null'}},{'offices.city':{'$ne': 'null'}}]},{'_id':1, 'name':1,'founded_year':1,'deadpooled_year':1, \n",
    "'number_of_employees':1,'offices.latitude':1,'offices.longitude':1,'offices.country_code':1,'offices.city':1,\n",
    "'investments.funding_round.round_code':1,'investments.funding_round.funded_year':1,'ipo.pub_year':1,'ipo.valuation_amount':1,\n",
    "'category_code':1,'description':1,'tag_list':1})\n",
    "\n",
    "# we load our query to a dataframe to work with                           \n",
    "def cursor_to_df(query):\n",
    "    return pd.DataFrame(list(query))"
   ]
  },
  {
   "cell_type": "code",
   "execution_count": 12,
   "metadata": {},
   "outputs": [
    {
     "data": {
      "text/plain": [
       "Index(['_id', 'category_code', 'deadpooled_year', 'description',\n",
       "       'founded_year', 'investments', 'ipo', 'name', 'number_of_employees',\n",
       "       'offices', 'tag_list'],\n",
       "      dtype='object')"
      ]
     },
     "execution_count": 12,
     "metadata": {},
     "output_type": "execute_result"
    }
   ],
   "source": [
    "# checking we get all the requested info\n",
    "data.columns"
   ]
  },
  {
   "cell_type": "code",
   "execution_count": 13,
   "metadata": {},
   "outputs": [
    {
     "data": {
      "text/plain": [
       "_id                     object\n",
       "category_code           object\n",
       "deadpooled_year         object\n",
       "description             object\n",
       "founded_year           float64\n",
       "investments             object\n",
       "ipo                     object\n",
       "name                    object\n",
       "number_of_employees      int64\n",
       "offices                 object\n",
       "tag_list                object\n",
       "dtype: object"
      ]
     },
     "execution_count": 13,
     "metadata": {},
     "output_type": "execute_result"
    }
   ],
   "source": [
    "# checking what kind of variables we have\n",
    "data.dtypes"
   ]
  },
  {
   "cell_type": "code",
   "execution_count": 14,
   "metadata": {},
   "outputs": [
    {
     "data": {
      "text/html": [
       "<div>\n",
       "<style scoped>\n",
       "    .dataframe tbody tr th:only-of-type {\n",
       "        vertical-align: middle;\n",
       "    }\n",
       "\n",
       "    .dataframe tbody tr th {\n",
       "        vertical-align: top;\n",
       "    }\n",
       "\n",
       "    .dataframe thead th {\n",
       "        text-align: right;\n",
       "    }\n",
       "</style>\n",
       "<table border=\"1\" class=\"dataframe\">\n",
       "  <thead>\n",
       "    <tr style=\"text-align: right;\">\n",
       "      <th></th>\n",
       "      <th>_id</th>\n",
       "      <th>category_code</th>\n",
       "      <th>deadpooled_year</th>\n",
       "      <th>description</th>\n",
       "      <th>founded_year</th>\n",
       "      <th>investments</th>\n",
       "      <th>ipo</th>\n",
       "      <th>name</th>\n",
       "      <th>number_of_employees</th>\n",
       "      <th>offices</th>\n",
       "      <th>tag_list</th>\n",
       "    </tr>\n",
       "  </thead>\n",
       "  <tbody>\n",
       "    <tr>\n",
       "      <th>0</th>\n",
       "      <td>52cdef7c4bab8bd675297d8d</td>\n",
       "      <td>news</td>\n",
       "      <td>None</td>\n",
       "      <td>user driven social content website</td>\n",
       "      <td>2004.0</td>\n",
       "      <td>[]</td>\n",
       "      <td>NaN</td>\n",
       "      <td>Digg</td>\n",
       "      <td>60</td>\n",
       "      <td>[{'city': 'San Francisco', 'country_code': 'US...</td>\n",
       "      <td>community, social, news, bookmark, digg, techn...</td>\n",
       "    </tr>\n",
       "    <tr>\n",
       "      <th>1</th>\n",
       "      <td>52cdef7c4bab8bd675297d91</td>\n",
       "      <td>web</td>\n",
       "      <td>None</td>\n",
       "      <td>Geneology social network site</td>\n",
       "      <td>2006.0</td>\n",
       "      <td>[]</td>\n",
       "      <td>NaN</td>\n",
       "      <td>Geni</td>\n",
       "      <td>18</td>\n",
       "      <td>[{'city': 'West Hollywood', 'country_code': 'U...</td>\n",
       "      <td>geni, geneology, social, family, genealogy</td>\n",
       "    </tr>\n",
       "    <tr>\n",
       "      <th>2</th>\n",
       "      <td>52cdef7c4bab8bd675297d97</td>\n",
       "      <td>news</td>\n",
       "      <td>None</td>\n",
       "      <td>Read Unlimited Books</td>\n",
       "      <td>2007.0</td>\n",
       "      <td>[]</td>\n",
       "      <td>NaN</td>\n",
       "      <td>Scribd</td>\n",
       "      <td>50</td>\n",
       "      <td>[{'city': 'San Francisco', 'country_code': 'US...</td>\n",
       "      <td>book-subscription, digital-library, netflix-fo...</td>\n",
       "    </tr>\n",
       "    <tr>\n",
       "      <th>3</th>\n",
       "      <td>52cdef7c4bab8bd675297d94</td>\n",
       "      <td>social</td>\n",
       "      <td>None</td>\n",
       "      <td>Real time communication platform</td>\n",
       "      <td>2006.0</td>\n",
       "      <td>[]</td>\n",
       "      <td>{'valuation_amount': 18100000000, 'pub_year': ...</td>\n",
       "      <td>Twitter</td>\n",
       "      <td>1300</td>\n",
       "      <td>[{'city': 'San Francisco', 'country_code': 'US...</td>\n",
       "      <td>text, messaging, social, community, twitter, t...</td>\n",
       "    </tr>\n",
       "    <tr>\n",
       "      <th>4</th>\n",
       "      <td>52cdef7c4bab8bd675297d8e</td>\n",
       "      <td>social</td>\n",
       "      <td>None</td>\n",
       "      <td>Social network</td>\n",
       "      <td>2004.0</td>\n",
       "      <td>[{'funding_round': {'round_code': 'seed', 'fun...</td>\n",
       "      <td>{'valuation_amount': 104000000000, 'pub_year':...</td>\n",
       "      <td>Facebook</td>\n",
       "      <td>5299</td>\n",
       "      <td>[{'city': 'Menlo Park', 'country_code': 'USA',...</td>\n",
       "      <td>facebook, college, students, profiles, network...</td>\n",
       "    </tr>\n",
       "  </tbody>\n",
       "</table>\n",
       "</div>"
      ],
      "text/plain": [
       "                        _id category_code deadpooled_year  \\\n",
       "0  52cdef7c4bab8bd675297d8d          news            None   \n",
       "1  52cdef7c4bab8bd675297d91           web            None   \n",
       "2  52cdef7c4bab8bd675297d97          news            None   \n",
       "3  52cdef7c4bab8bd675297d94        social            None   \n",
       "4  52cdef7c4bab8bd675297d8e        social            None   \n",
       "\n",
       "                          description  founded_year  \\\n",
       "0  user driven social content website        2004.0   \n",
       "1       Geneology social network site        2006.0   \n",
       "2                Read Unlimited Books        2007.0   \n",
       "3    Real time communication platform        2006.0   \n",
       "4                      Social network        2004.0   \n",
       "\n",
       "                                         investments  \\\n",
       "0                                                 []   \n",
       "1                                                 []   \n",
       "2                                                 []   \n",
       "3                                                 []   \n",
       "4  [{'funding_round': {'round_code': 'seed', 'fun...   \n",
       "\n",
       "                                                 ipo      name  \\\n",
       "0                                                NaN      Digg   \n",
       "1                                                NaN      Geni   \n",
       "2                                                NaN    Scribd   \n",
       "3  {'valuation_amount': 18100000000, 'pub_year': ...   Twitter   \n",
       "4  {'valuation_amount': 104000000000, 'pub_year':...  Facebook   \n",
       "\n",
       "   number_of_employees                                            offices  \\\n",
       "0                   60  [{'city': 'San Francisco', 'country_code': 'US...   \n",
       "1                   18  [{'city': 'West Hollywood', 'country_code': 'U...   \n",
       "2                   50  [{'city': 'San Francisco', 'country_code': 'US...   \n",
       "3                 1300  [{'city': 'San Francisco', 'country_code': 'US...   \n",
       "4                 5299  [{'city': 'Menlo Park', 'country_code': 'USA',...   \n",
       "\n",
       "                                            tag_list  \n",
       "0  community, social, news, bookmark, digg, techn...  \n",
       "1         geni, geneology, social, family, genealogy  \n",
       "2  book-subscription, digital-library, netflix-fo...  \n",
       "3  text, messaging, social, community, twitter, t...  \n",
       "4  facebook, college, students, profiles, network...  "
      ]
     },
     "execution_count": 14,
     "metadata": {},
     "output_type": "execute_result"
    }
   ],
   "source": [
    "data.head()"
   ]
  },
  {
   "cell_type": "code",
   "execution_count": 16,
   "metadata": {},
   "outputs": [
    {
     "data": {
      "text/plain": [
       "Series([], Name: deadpooled_year, dtype: int64)"
      ]
     },
     "execution_count": 16,
     "metadata": {},
     "output_type": "execute_result"
    }
   ],
   "source": [
    "# checking all companies are currently active\n",
    "data.deadpooled_year.value_counts()"
   ]
  },
  {
   "cell_type": "markdown",
   "metadata": {},
   "source": [
    "### Working with founded_year variable:"
   ]
  },
  {
   "cell_type": "code",
   "execution_count": null,
   "metadata": {},
   "outputs": [],
   "source": [
    "def convert_to_int(data,int_var):\n",
    "    for iv in int_var:\n",
    "        data[iv].apply(lambda x: str(x).astype('int64', copy=False))\n",
    "        #data[iv].astype('int64', copy=False)\n",
    "    return data"
   ]
  },
  {
   "cell_type": "code",
   "execution_count": 19,
   "metadata": {},
   "outputs": [
    {
     "ename": "ValueError",
     "evalue": "Cannot convert non-finite values (NA or inf) to integer",
     "output_type": "error",
     "traceback": [
      "\u001b[0;31m---------------------------------------------------------------------------\u001b[0m",
      "\u001b[0;31mValueError\u001b[0m                                Traceback (most recent call last)",
      "\u001b[0;32m<ipython-input-19-2ebc1140f8f5>\u001b[0m in \u001b[0;36m<module>\u001b[0;34m()\u001b[0m\n\u001b[1;32m      1\u001b[0m \u001b[0;31m# first we convert from float to int type:\u001b[0m\u001b[0;34m\u001b[0m\u001b[0;34m\u001b[0m\u001b[0;34m\u001b[0m\u001b[0m\n\u001b[0;32m----> 2\u001b[0;31m \u001b[0mdata\u001b[0m\u001b[0;34m[\u001b[0m\u001b[0;34m'founded_year'\u001b[0m\u001b[0;34m]\u001b[0m\u001b[0;34m.\u001b[0m\u001b[0mastype\u001b[0m\u001b[0;34m(\u001b[0m\u001b[0;34m'int64'\u001b[0m\u001b[0;34m)\u001b[0m\u001b[0;34m\u001b[0m\u001b[0;34m\u001b[0m\u001b[0m\n\u001b[0m",
      "\u001b[0;32m/home/cecil/.local/lib/python3.6/site-packages/pandas/core/generic.py\u001b[0m in \u001b[0;36mastype\u001b[0;34m(self, dtype, copy, errors, **kwargs)\u001b[0m\n\u001b[1;32m   5689\u001b[0m             \u001b[0;31m# else, only a single dtype is given\u001b[0m\u001b[0;34m\u001b[0m\u001b[0;34m\u001b[0m\u001b[0;34m\u001b[0m\u001b[0m\n\u001b[1;32m   5690\u001b[0m             new_data = self._data.astype(dtype=dtype, copy=copy, errors=errors,\n\u001b[0;32m-> 5691\u001b[0;31m                                          **kwargs)\n\u001b[0m\u001b[1;32m   5692\u001b[0m             \u001b[0;32mreturn\u001b[0m \u001b[0mself\u001b[0m\u001b[0;34m.\u001b[0m\u001b[0m_constructor\u001b[0m\u001b[0;34m(\u001b[0m\u001b[0mnew_data\u001b[0m\u001b[0;34m)\u001b[0m\u001b[0;34m.\u001b[0m\u001b[0m__finalize__\u001b[0m\u001b[0;34m(\u001b[0m\u001b[0mself\u001b[0m\u001b[0;34m)\u001b[0m\u001b[0;34m\u001b[0m\u001b[0;34m\u001b[0m\u001b[0m\n\u001b[1;32m   5693\u001b[0m \u001b[0;34m\u001b[0m\u001b[0m\n",
      "\u001b[0;32m/home/cecil/.local/lib/python3.6/site-packages/pandas/core/internals/managers.py\u001b[0m in \u001b[0;36mastype\u001b[0;34m(self, dtype, **kwargs)\u001b[0m\n\u001b[1;32m    529\u001b[0m \u001b[0;34m\u001b[0m\u001b[0m\n\u001b[1;32m    530\u001b[0m     \u001b[0;32mdef\u001b[0m \u001b[0mastype\u001b[0m\u001b[0;34m(\u001b[0m\u001b[0mself\u001b[0m\u001b[0;34m,\u001b[0m \u001b[0mdtype\u001b[0m\u001b[0;34m,\u001b[0m \u001b[0;34m**\u001b[0m\u001b[0mkwargs\u001b[0m\u001b[0;34m)\u001b[0m\u001b[0;34m:\u001b[0m\u001b[0;34m\u001b[0m\u001b[0;34m\u001b[0m\u001b[0m\n\u001b[0;32m--> 531\u001b[0;31m         \u001b[0;32mreturn\u001b[0m \u001b[0mself\u001b[0m\u001b[0;34m.\u001b[0m\u001b[0mapply\u001b[0m\u001b[0;34m(\u001b[0m\u001b[0;34m'astype'\u001b[0m\u001b[0;34m,\u001b[0m \u001b[0mdtype\u001b[0m\u001b[0;34m=\u001b[0m\u001b[0mdtype\u001b[0m\u001b[0;34m,\u001b[0m \u001b[0;34m**\u001b[0m\u001b[0mkwargs\u001b[0m\u001b[0;34m)\u001b[0m\u001b[0;34m\u001b[0m\u001b[0;34m\u001b[0m\u001b[0m\n\u001b[0m\u001b[1;32m    532\u001b[0m \u001b[0;34m\u001b[0m\u001b[0m\n\u001b[1;32m    533\u001b[0m     \u001b[0;32mdef\u001b[0m \u001b[0mconvert\u001b[0m\u001b[0;34m(\u001b[0m\u001b[0mself\u001b[0m\u001b[0;34m,\u001b[0m \u001b[0;34m**\u001b[0m\u001b[0mkwargs\u001b[0m\u001b[0;34m)\u001b[0m\u001b[0;34m:\u001b[0m\u001b[0;34m\u001b[0m\u001b[0;34m\u001b[0m\u001b[0m\n",
      "\u001b[0;32m/home/cecil/.local/lib/python3.6/site-packages/pandas/core/internals/managers.py\u001b[0m in \u001b[0;36mapply\u001b[0;34m(self, f, axes, filter, do_integrity_check, consolidate, **kwargs)\u001b[0m\n\u001b[1;32m    393\u001b[0m                                             copy=align_copy)\n\u001b[1;32m    394\u001b[0m \u001b[0;34m\u001b[0m\u001b[0m\n\u001b[0;32m--> 395\u001b[0;31m             \u001b[0mapplied\u001b[0m \u001b[0;34m=\u001b[0m \u001b[0mgetattr\u001b[0m\u001b[0;34m(\u001b[0m\u001b[0mb\u001b[0m\u001b[0;34m,\u001b[0m \u001b[0mf\u001b[0m\u001b[0;34m)\u001b[0m\u001b[0;34m(\u001b[0m\u001b[0;34m**\u001b[0m\u001b[0mkwargs\u001b[0m\u001b[0;34m)\u001b[0m\u001b[0;34m\u001b[0m\u001b[0;34m\u001b[0m\u001b[0m\n\u001b[0m\u001b[1;32m    396\u001b[0m             \u001b[0mresult_blocks\u001b[0m \u001b[0;34m=\u001b[0m \u001b[0m_extend_blocks\u001b[0m\u001b[0;34m(\u001b[0m\u001b[0mapplied\u001b[0m\u001b[0;34m,\u001b[0m \u001b[0mresult_blocks\u001b[0m\u001b[0;34m)\u001b[0m\u001b[0;34m\u001b[0m\u001b[0;34m\u001b[0m\u001b[0m\n\u001b[1;32m    397\u001b[0m \u001b[0;34m\u001b[0m\u001b[0m\n",
      "\u001b[0;32m/home/cecil/.local/lib/python3.6/site-packages/pandas/core/internals/blocks.py\u001b[0m in \u001b[0;36mastype\u001b[0;34m(self, dtype, copy, errors, values, **kwargs)\u001b[0m\n\u001b[1;32m    532\u001b[0m     \u001b[0;32mdef\u001b[0m \u001b[0mastype\u001b[0m\u001b[0;34m(\u001b[0m\u001b[0mself\u001b[0m\u001b[0;34m,\u001b[0m \u001b[0mdtype\u001b[0m\u001b[0;34m,\u001b[0m \u001b[0mcopy\u001b[0m\u001b[0;34m=\u001b[0m\u001b[0;32mFalse\u001b[0m\u001b[0;34m,\u001b[0m \u001b[0merrors\u001b[0m\u001b[0;34m=\u001b[0m\u001b[0;34m'raise'\u001b[0m\u001b[0;34m,\u001b[0m \u001b[0mvalues\u001b[0m\u001b[0;34m=\u001b[0m\u001b[0;32mNone\u001b[0m\u001b[0;34m,\u001b[0m \u001b[0;34m**\u001b[0m\u001b[0mkwargs\u001b[0m\u001b[0;34m)\u001b[0m\u001b[0;34m:\u001b[0m\u001b[0;34m\u001b[0m\u001b[0;34m\u001b[0m\u001b[0m\n\u001b[1;32m    533\u001b[0m         return self._astype(dtype, copy=copy, errors=errors, values=values,\n\u001b[0;32m--> 534\u001b[0;31m                             **kwargs)\n\u001b[0m\u001b[1;32m    535\u001b[0m \u001b[0;34m\u001b[0m\u001b[0m\n\u001b[1;32m    536\u001b[0m     def _astype(self, dtype, copy=False, errors='raise', values=None,\n",
      "\u001b[0;32m/home/cecil/.local/lib/python3.6/site-packages/pandas/core/internals/blocks.py\u001b[0m in \u001b[0;36m_astype\u001b[0;34m(self, dtype, copy, errors, values, **kwargs)\u001b[0m\n\u001b[1;32m    631\u001b[0m \u001b[0;34m\u001b[0m\u001b[0m\n\u001b[1;32m    632\u001b[0m                     \u001b[0;31m# _astype_nansafe works fine with 1-d only\u001b[0m\u001b[0;34m\u001b[0m\u001b[0;34m\u001b[0m\u001b[0;34m\u001b[0m\u001b[0m\n\u001b[0;32m--> 633\u001b[0;31m                     \u001b[0mvalues\u001b[0m \u001b[0;34m=\u001b[0m \u001b[0mastype_nansafe\u001b[0m\u001b[0;34m(\u001b[0m\u001b[0mvalues\u001b[0m\u001b[0;34m.\u001b[0m\u001b[0mravel\u001b[0m\u001b[0;34m(\u001b[0m\u001b[0;34m)\u001b[0m\u001b[0;34m,\u001b[0m \u001b[0mdtype\u001b[0m\u001b[0;34m,\u001b[0m \u001b[0mcopy\u001b[0m\u001b[0;34m=\u001b[0m\u001b[0;32mTrue\u001b[0m\u001b[0;34m)\u001b[0m\u001b[0;34m\u001b[0m\u001b[0;34m\u001b[0m\u001b[0m\n\u001b[0m\u001b[1;32m    634\u001b[0m \u001b[0;34m\u001b[0m\u001b[0m\n\u001b[1;32m    635\u001b[0m                 \u001b[0;31m# TODO(extension)\u001b[0m\u001b[0;34m\u001b[0m\u001b[0;34m\u001b[0m\u001b[0;34m\u001b[0m\u001b[0m\n",
      "\u001b[0;32m/home/cecil/.local/lib/python3.6/site-packages/pandas/core/dtypes/cast.py\u001b[0m in \u001b[0;36mastype_nansafe\u001b[0;34m(arr, dtype, copy, skipna)\u001b[0m\n\u001b[1;32m    674\u001b[0m \u001b[0;34m\u001b[0m\u001b[0m\n\u001b[1;32m    675\u001b[0m         \u001b[0;32mif\u001b[0m \u001b[0;32mnot\u001b[0m \u001b[0mnp\u001b[0m\u001b[0;34m.\u001b[0m\u001b[0misfinite\u001b[0m\u001b[0;34m(\u001b[0m\u001b[0marr\u001b[0m\u001b[0;34m)\u001b[0m\u001b[0;34m.\u001b[0m\u001b[0mall\u001b[0m\u001b[0;34m(\u001b[0m\u001b[0;34m)\u001b[0m\u001b[0;34m:\u001b[0m\u001b[0;34m\u001b[0m\u001b[0;34m\u001b[0m\u001b[0m\n\u001b[0;32m--> 676\u001b[0;31m             raise ValueError('Cannot convert non-finite values (NA or inf) to '\n\u001b[0m\u001b[1;32m    677\u001b[0m                              'integer')\n\u001b[1;32m    678\u001b[0m \u001b[0;34m\u001b[0m\u001b[0m\n",
      "\u001b[0;31mValueError\u001b[0m: Cannot convert non-finite values (NA or inf) to integer"
     ]
    }
   ],
   "source": [
    "# first we convert from float to int type:\n",
    "data['founded_year'].astype('int64')"
   ]
  },
  {
   "cell_type": "code",
   "execution_count": 18,
   "metadata": {},
   "outputs": [
    {
     "data": {
      "text/plain": [
       "count    7830.000000\n",
       "mean     2003.745977\n",
       "std        10.581145\n",
       "min      1800.000000\n",
       "25%      2003.000000\n",
       "50%      2006.000000\n",
       "75%      2008.000000\n",
       "max      2013.000000\n",
       "Name: founded_year, dtype: float64"
      ]
     },
     "execution_count": 18,
     "metadata": {},
     "output_type": "execute_result"
    }
   ],
   "source": [
    "# before defining bins, we will have a look first to statistics\n",
    "data.founded_year.describe()"
   ]
  },
  {
   "cell_type": "code",
   "execution_count": null,
   "metadata": {},
   "outputs": [],
   "source": [
    "def founded_year_bins(var):\n",
    "    bins_labels = ['Old (1800-2000)','Mid Old (2000-2003)','Mid Recent (2004-2007)','Recent (2008-2013)']\n",
    "    cutoffs = [1800,2000,2006,2013] \n",
    "    df['tempo_clas'] = pd.cut(df[var],cutoffs, labels=bins_labels)\n",
    "    return df[['tempo','tempo_clas']].head()"
   ]
  },
  {
   "cell_type": "code",
   "execution_count": null,
   "metadata": {},
   "outputs": [],
   "source": [
    "data.founded_year.value_counts()"
   ]
  },
  {
   "cell_type": "code",
   "execution_count": null,
   "metadata": {},
   "outputs": [],
   "source": [
    "# Defining 'Startups': Less than 10 employees"
   ]
  },
  {
   "cell_type": "code",
   "execution_count": null,
   "metadata": {},
   "outputs": [],
   "source": []
  },
  {
   "cell_type": "code",
   "execution_count": null,
   "metadata": {},
   "outputs": [],
   "source": []
  },
  {
   "cell_type": "code",
   "execution_count": null,
   "metadata": {},
   "outputs": [],
   "source": []
  },
  {
   "cell_type": "code",
   "execution_count": null,
   "metadata": {},
   "outputs": [],
   "source": []
  },
  {
   "cell_type": "code",
   "execution_count": null,
   "metadata": {},
   "outputs": [],
   "source": [
    "# checking the data quantity for our analyse\n",
    "data.shape"
   ]
  },
  {
   "cell_type": "code",
   "execution_count": 15,
   "metadata": {},
   "outputs": [
    {
     "data": {
      "text/plain": [
       "web                 1861\n",
       "software            1497\n",
       "advertising          594\n",
       "other                565\n",
       "games_video          539\n",
       "mobile               465\n",
       "consulting           415\n",
       "ecommerce            412\n",
       "enterprise           389\n",
       "network_hosting      338\n",
       "public_relations     299\n",
       "search               247\n",
       "hardware             135\n",
       "security              63\n",
       "cleantech             55\n",
       "analytics             49\n",
       "biotech               43\n",
       "social                36\n",
       "finance               26\n",
       "semiconductor         25\n",
       "education             25\n",
       "news                  25\n",
       "music                 24\n",
       "travel                18\n",
       "messaging             16\n",
       "photo_video           15\n",
       "health                 9\n",
       "legal                  8\n",
       "real_estate            7\n",
       "sports                 7\n",
       "transportation         6\n",
       "fashion                6\n",
       "hospitality            4\n",
       "automotive             3\n",
       "medical                3\n",
       "design                 2\n",
       "nonprofit              2\n",
       "manufacturing          1\n",
       "nanotech               1\n",
       "Name: category_code, dtype: int64"
      ]
     },
     "execution_count": 15,
     "metadata": {},
     "output_type": "execute_result"
    }
   ],
   "source": [
    "data.category_code.value_counts()"
   ]
  }
 ],
 "metadata": {
  "kernelspec": {
   "display_name": "Python 3",
   "language": "python",
   "name": "python3"
  },
  "language_info": {
   "codemirror_mode": {
    "name": "ipython",
    "version": 3
   },
   "file_extension": ".py",
   "mimetype": "text/x-python",
   "name": "python",
   "nbconvert_exporter": "python",
   "pygments_lexer": "ipython3",
   "version": "3.6.7"
  }
 },
 "nbformat": 4,
 "nbformat_minor": 2
}
