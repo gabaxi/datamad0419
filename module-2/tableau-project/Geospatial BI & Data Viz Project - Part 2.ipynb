{
 "cells": [
  {
   "cell_type": "markdown",
   "metadata": {},
   "source": [
    "# Geospatial BI & Data Viz Project - Part 2"
   ]
  },
  {
   "cell_type": "markdown",
   "metadata": {},
   "source": [
    "- VISUALIZATION PROJECT Geospatial Business Intelligence (BI)\n",
    "    * Make a geospatial analysis of the `companies` dataset\n",
    "    * Things you know:\n",
    "        - You have a software company with 50 employees\n",
    "        - The company creates video games\n",
    "        - Roles in your company: 20 developers, 20 Designers/Creatives/UX/UI and 10 executives/managers\n",
    "    * Do an analysis about placing the new company offices in the best environment based on the following criteria:\n",
    "        - There should be software engineers working around\n",
    "        - The surroundings must have a good ratio of big companies vs startups\n",
    "        - Ensure you have in your surroundings companies that cover the interests of your team\n",
    "        - Avoid old companies, prefer recently created ones"
   ]
  },
  {
   "cell_type": "code",
   "execution_count": 1,
   "metadata": {},
   "outputs": [],
   "source": [
    "# import pymongo to connect Python with MongoDB\n",
    "from pymongo import MongoClient\n",
    "# to work with stats\n",
    "import pandas as pd\n",
    "# to work with dataframes\n",
    "import numpy as np\n",
    "# to work with json\n",
    "from pandas.io.json import json_normalize"
   ]
  },
  {
   "cell_type": "markdown",
   "metadata": {},
   "source": [
    "### 1. Prepare the data: extract from the companies database only the relevant information for the challenge.\n",
    "\n",
    "* for geolocation analysis & geospatial visualization\n",
    "    - name\n",
    "    - offices.country_code, offices.city, offices.latitude, offices.longitude \n",
    "        \n",
    "* to determine if the company is old o recent\n",
    "    - founded_year --> company size\n",
    "\n",
    "* to define if it's a small (startup) or a big company:\n",
    "    - number_of_employees --> company size\n",
    "    - investments.funding_round.round_code: 'Angel','seed' --> to associate to startup category\n",
    "    - investments.funding_round.funded_year\n",
    "    - ipo.pub_year,ipo.valuation_amount --> to associate with big company\n",
    "    https://support.crunchbase.com/hc/en-us/articles/115010458467-Glossary-of-Funding-Types\n",
    "\n",
    "* to match with our team interests: technology & videogames\n",
    "    - category_code: 'software', 'web', 'games_video' --> to filter as 'best match' for our team\n",
    "    - description: 'software','technology', 'Platform','Social network' --> for a qualitative analysis\n",
    "    - tag_list: 'network', 'online-communities','projects', etc --> for a qualitative analysis"
   ]
  },
  {
   "cell_type": "code",
   "execution_count": 2,
   "metadata": {},
   "outputs": [],
   "source": [
    "# connecting on default host and port\n",
    "client = MongoClient ('localhost', 27017)\n",
    "\n",
    "# loading the database\n",
    "db = client['companies']\n",
    "\n",
    "# getting the collection\n",
    "companies = db['companies']\n",
    "\n",
    "# defining query to get the relevant information:\n",
    "query = db.companies.find({'founded_year': {'$gt': year }},{'name':1, 'founded_year': 1, '_id': 0, \n",
    "'number_of_employees':1,'offices.latitude':1, 'offices.longitude':1, 'funding_rounds.raised_amount':1, \n",
    "'funding_rounds.raised_currency_code':1}) \n",
    "data = pd.DataFrame(query)"
   ]
  },
  {
   "cell_type": "markdown",
   "metadata": {},
   "source": [
    "\n",
    "\n"
   ]
  },
  {
   "cell_type": "code",
   "execution_count": null,
   "metadata": {},
   "outputs": [],
   "source": []
  },
  {
   "cell_type": "code",
   "execution_count": null,
   "metadata": {},
   "outputs": [],
   "source": []
  },
  {
   "cell_type": "code",
   "execution_count": null,
   "metadata": {},
   "outputs": [],
   "source": []
  },
  {
   "cell_type": "code",
   "execution_count": null,
   "metadata": {},
   "outputs": [],
   "source": []
  },
  {
   "cell_type": "code",
   "execution_count": null,
   "metadata": {},
   "outputs": [],
   "source": []
  },
  {
   "cell_type": "code",
   "execution_count": null,
   "metadata": {},
   "outputs": [],
   "source": []
  },
  {
   "cell_type": "code",
   "execution_count": null,
   "metadata": {},
   "outputs": [],
   "source": []
  }
 ],
 "metadata": {
  "kernelspec": {
   "display_name": "Python 3",
   "language": "python",
   "name": "python3"
  },
  "language_info": {
   "codemirror_mode": {
    "name": "ipython",
    "version": 3
   },
   "file_extension": ".py",
   "mimetype": "text/x-python",
   "name": "python",
   "nbconvert_exporter": "python",
   "pygments_lexer": "ipython3",
   "version": "3.6.7"
  }
 },
 "nbformat": 4,
 "nbformat_minor": 2
}
