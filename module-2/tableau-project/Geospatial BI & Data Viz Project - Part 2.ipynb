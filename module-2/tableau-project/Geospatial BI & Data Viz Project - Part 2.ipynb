{
 "cells": [
  {
   "cell_type": "markdown",
   "metadata": {},
   "source": [
    "# Geospatial BI & Data Viz Project - Part 2"
   ]
  },
  {
   "cell_type": "markdown",
   "metadata": {},
   "source": [
    "- VISUALIZATION PROJECT Geospatial Business Intelligence (BI)\n",
    "    * Make a geospatial analysis of the `companies` dataset\n",
    "    * Things you know:\n",
    "        - You have a software company with 50 employees\n",
    "        - The company creates video games\n",
    "        - Roles in your company: 20 developers, 20 Designers/Creatives/UX/UI and 10 executives/managers\n",
    "    * Do an analysis about placing the new company offices in the best environment based on the following criteria:\n",
    "        - There should be software engineers working around\n",
    "        - The surroundings must have a good ratio of big companies vs startups\n",
    "        - Ensure you have in your surroundings companies that cover the interests of your team\n",
    "        - Avoid old companies, prefer recently created ones\n",
    "        \n",
    "JSON companies --> MongoDB --> Python:\n",
    "Queries en Jupyter-Notebook --> DataFrame (Pandas) --> columna geopoint con diccionario con type = point y un array con formato array [lat,long]\n",
    "indice geospatial (point) para volver a cargar en MongoDB y hacer nuevas queries (esta vez tocar la parte de queries geo-espaciales $near, etc...) \n",
    "por ej: de todos los puntos, dime el que está más cerca de empresas de videojuegos, o a 1000m\n",
    "para tener el max y min, hay que probarlos todos "
   ]
  },
  {
   "cell_type": "code",
   "execution_count": 84,
   "metadata": {},
   "outputs": [],
   "source": [
    "# import pymongo to connect Python with MongoDB\n",
    "from pymongo import MongoClient\n",
    "# to work with stats\n",
    "import pandas as pd\n",
    "# to work with dataframes\n",
    "import numpy as np\n",
    "# to work with json\n",
    "from pandas.io.json import json_normalize\n",
    "# to plot\n",
    "import matplotlib.pyplot as plt\n",
    "%matplotlib inline  \n",
    "import seaborn as sns"
   ]
  },
  {
   "cell_type": "markdown",
   "metadata": {},
   "source": [
    "### 1. Prepare the data: extract from the companies database the relevant information for the challenge.\n",
    "\n",
    "* company identification\n",
    "    - id (just in case we would need to get more information later)\n",
    "    - name\n",
    "* only currently active company\n",
    "    - 'deadpooled_year' --> not none\n",
    "    \n",
    "* for geolocation analysis & geospatial visualization\n",
    "    - offices.latitude, offices.longitude --> not null\n",
    "    - offices.country_code, offices.city --> not null\n",
    "\n",
    "* to determine if the company is old (negative) o recent (positive)\n",
    "    - founded_year --> not null\n",
    "\n",
    "* to define if it's a small (startup) or a big company:\n",
    "    - number_of_employees --> company size (make sure there are not ficticious and have >= 1 employee)\n",
    "    - investments.funding_round.round_code: 'Angel','seed' --> to associate to startup category\n",
    "    https://support.crunchbase.com/hc/en-us/articles/115010458467-Glossary-of-Funding-Types\n",
    "    - investments.funding_round.funded_year\n",
    "    - ipo.pub_year,ipo.valuation_amount --> to associate with big company   \n",
    "\n",
    "* to match with our team interests: technology & videogames\n",
    "    - category_code: 'software', 'web', 'games_video' --> to filter as 'best match' for our team --> not null\n",
    "    - description: 'software','technology', 'Platform','Social network' --> for a qualitative analysis\n",
    "    - tag_list: 'network', 'online-communities','projects', etc --> for a qualitative analysis"
   ]
  },
  {
   "cell_type": "code",
   "execution_count": 85,
   "metadata": {},
   "outputs": [],
   "source": [
    "# connecting on default host and port\n",
    "client = MongoClient ('localhost', 27017)\n",
    "\n",
    "# loading the database\n",
    "db = client['companies']\n",
    "\n",
    "# getting the collection\n",
    "companies = db['companies']\n",
    "\n",
    "# defining query to get the relevant information\n",
    "query = db.companies.find({'$and':[{'founded_year':{'$ne': None}},{'category_code':{'$ne': None}},\n",
    "{'deadpooled_year':None},{'number_of_employees':{'$gte':1}},{'offices.latitude':{'$ne':  None}},{'offices.longitude': {'$ne':  None}},\n",
    "{'offices.country_code':{'$ne':  None}},{'offices.city':{'$ne':  None}}]},{'_id':1, 'name':1,'founded_year':1,'deadpooled_year':1, \n",
    "'number_of_employees':1,'offices.latitude':1,'offices.longitude':1,'offices.country_code':1,'offices.city':1,\n",
    "'investments.funding_round.round_code':1,'investments.funding_round.funded_year':1,'ipo.pub_year':1,'ipo.valuation_amount':1,\n",
    "'category_code':1,'description':1,'tag_list':1})"
   ]
  },
  {
   "cell_type": "code",
   "execution_count": 86,
   "metadata": {},
   "outputs": [],
   "source": [
    "# we load our query to a dataframe to work with                           \n",
    "def cursor_to_df(query):\n",
    "    return pd.DataFrame(list(query))\n",
    "\n",
    "data = cursor_to_df(query)"
   ]
  },
  {
   "cell_type": "code",
   "execution_count": 67,
   "metadata": {},
   "outputs": [
    {
     "data": {
      "text/plain": [
       "Index(['_id', 'category_code', 'deadpooled_year', 'description',\n",
       "       'founded_year', 'investments', 'ipo', 'name', 'number_of_employees',\n",
       "       'offices', 'tag_list'],\n",
       "      dtype='object')"
      ]
     },
     "execution_count": 67,
     "metadata": {},
     "output_type": "execute_result"
    }
   ],
   "source": [
    "# checking we get all the requested info\n",
    "data.columns"
   ]
  },
  {
   "cell_type": "code",
   "execution_count": 44,
   "metadata": {},
   "outputs": [
    {
     "data": {
      "text/plain": [
       "_id                    object\n",
       "category_code          object\n",
       "deadpooled_year        object\n",
       "description            object\n",
       "founded_year            int64\n",
       "investments            object\n",
       "ipo                    object\n",
       "name                   object\n",
       "number_of_employees     int64\n",
       "offices                object\n",
       "tag_list               object\n",
       "dtype: object"
      ]
     },
     "execution_count": 44,
     "metadata": {},
     "output_type": "execute_result"
    }
   ],
   "source": [
    "# checking what kind of variables we have\n",
    "data.dtypes"
   ]
  },
  {
   "cell_type": "code",
   "execution_count": 20,
   "metadata": {},
   "outputs": [
    {
     "data": {
      "text/html": [
       "<div>\n",
       "<style scoped>\n",
       "    .dataframe tbody tr th:only-of-type {\n",
       "        vertical-align: middle;\n",
       "    }\n",
       "\n",
       "    .dataframe tbody tr th {\n",
       "        vertical-align: top;\n",
       "    }\n",
       "\n",
       "    .dataframe thead th {\n",
       "        text-align: right;\n",
       "    }\n",
       "</style>\n",
       "<table border=\"1\" class=\"dataframe\">\n",
       "  <thead>\n",
       "    <tr style=\"text-align: right;\">\n",
       "      <th></th>\n",
       "      <th>_id</th>\n",
       "      <th>category_code</th>\n",
       "      <th>deadpooled_year</th>\n",
       "      <th>description</th>\n",
       "      <th>founded_year</th>\n",
       "      <th>investments</th>\n",
       "      <th>ipo</th>\n",
       "      <th>name</th>\n",
       "      <th>number_of_employees</th>\n",
       "      <th>offices</th>\n",
       "      <th>tag_list</th>\n",
       "    </tr>\n",
       "  </thead>\n",
       "  <tbody>\n",
       "    <tr>\n",
       "      <th>0</th>\n",
       "      <td>52cdef7c4bab8bd675297d8d</td>\n",
       "      <td>news</td>\n",
       "      <td>None</td>\n",
       "      <td>user driven social content website</td>\n",
       "      <td>2004</td>\n",
       "      <td>[]</td>\n",
       "      <td>NaN</td>\n",
       "      <td>Digg</td>\n",
       "      <td>60</td>\n",
       "      <td>[{'city': 'San Francisco', 'country_code': 'US...</td>\n",
       "      <td>community, social, news, bookmark, digg, techn...</td>\n",
       "    </tr>\n",
       "    <tr>\n",
       "      <th>1</th>\n",
       "      <td>52cdef7c4bab8bd675297d91</td>\n",
       "      <td>web</td>\n",
       "      <td>None</td>\n",
       "      <td>Geneology social network site</td>\n",
       "      <td>2006</td>\n",
       "      <td>[]</td>\n",
       "      <td>NaN</td>\n",
       "      <td>Geni</td>\n",
       "      <td>18</td>\n",
       "      <td>[{'city': 'West Hollywood', 'country_code': 'U...</td>\n",
       "      <td>geni, geneology, social, family, genealogy</td>\n",
       "    </tr>\n",
       "    <tr>\n",
       "      <th>2</th>\n",
       "      <td>52cdef7c4bab8bd675297d97</td>\n",
       "      <td>news</td>\n",
       "      <td>None</td>\n",
       "      <td>Read Unlimited Books</td>\n",
       "      <td>2007</td>\n",
       "      <td>[]</td>\n",
       "      <td>NaN</td>\n",
       "      <td>Scribd</td>\n",
       "      <td>50</td>\n",
       "      <td>[{'city': 'San Francisco', 'country_code': 'US...</td>\n",
       "      <td>book-subscription, digital-library, netflix-fo...</td>\n",
       "    </tr>\n",
       "    <tr>\n",
       "      <th>3</th>\n",
       "      <td>52cdef7c4bab8bd675297d94</td>\n",
       "      <td>social</td>\n",
       "      <td>None</td>\n",
       "      <td>Real time communication platform</td>\n",
       "      <td>2006</td>\n",
       "      <td>[]</td>\n",
       "      <td>{'valuation_amount': 18100000000, 'pub_year': ...</td>\n",
       "      <td>Twitter</td>\n",
       "      <td>1300</td>\n",
       "      <td>[{'city': 'San Francisco', 'country_code': 'US...</td>\n",
       "      <td>text, messaging, social, community, twitter, t...</td>\n",
       "    </tr>\n",
       "    <tr>\n",
       "      <th>4</th>\n",
       "      <td>52cdef7c4bab8bd675297d8e</td>\n",
       "      <td>social</td>\n",
       "      <td>None</td>\n",
       "      <td>Social network</td>\n",
       "      <td>2004</td>\n",
       "      <td>[{'funding_round': {'round_code': 'seed', 'fun...</td>\n",
       "      <td>{'valuation_amount': 104000000000, 'pub_year':...</td>\n",
       "      <td>Facebook</td>\n",
       "      <td>5299</td>\n",
       "      <td>[{'city': 'Menlo Park', 'country_code': 'USA',...</td>\n",
       "      <td>facebook, college, students, profiles, network...</td>\n",
       "    </tr>\n",
       "  </tbody>\n",
       "</table>\n",
       "</div>"
      ],
      "text/plain": [
       "                        _id category_code deadpooled_year  \\\n",
       "0  52cdef7c4bab8bd675297d8d          news            None   \n",
       "1  52cdef7c4bab8bd675297d91           web            None   \n",
       "2  52cdef7c4bab8bd675297d97          news            None   \n",
       "3  52cdef7c4bab8bd675297d94        social            None   \n",
       "4  52cdef7c4bab8bd675297d8e        social            None   \n",
       "\n",
       "                          description  founded_year  \\\n",
       "0  user driven social content website          2004   \n",
       "1       Geneology social network site          2006   \n",
       "2                Read Unlimited Books          2007   \n",
       "3    Real time communication platform          2006   \n",
       "4                      Social network          2004   \n",
       "\n",
       "                                         investments  \\\n",
       "0                                                 []   \n",
       "1                                                 []   \n",
       "2                                                 []   \n",
       "3                                                 []   \n",
       "4  [{'funding_round': {'round_code': 'seed', 'fun...   \n",
       "\n",
       "                                                 ipo      name  \\\n",
       "0                                                NaN      Digg   \n",
       "1                                                NaN      Geni   \n",
       "2                                                NaN    Scribd   \n",
       "3  {'valuation_amount': 18100000000, 'pub_year': ...   Twitter   \n",
       "4  {'valuation_amount': 104000000000, 'pub_year':...  Facebook   \n",
       "\n",
       "   number_of_employees                                            offices  \\\n",
       "0                   60  [{'city': 'San Francisco', 'country_code': 'US...   \n",
       "1                   18  [{'city': 'West Hollywood', 'country_code': 'U...   \n",
       "2                   50  [{'city': 'San Francisco', 'country_code': 'US...   \n",
       "3                 1300  [{'city': 'San Francisco', 'country_code': 'US...   \n",
       "4                 5299  [{'city': 'Menlo Park', 'country_code': 'USA',...   \n",
       "\n",
       "                                            tag_list  \n",
       "0  community, social, news, bookmark, digg, techn...  \n",
       "1         geni, geneology, social, family, genealogy  \n",
       "2  book-subscription, digital-library, netflix-fo...  \n",
       "3  text, messaging, social, community, twitter, t...  \n",
       "4  facebook, college, students, profiles, network...  "
      ]
     },
     "execution_count": 20,
     "metadata": {},
     "output_type": "execute_result"
    }
   ],
   "source": [
    "data.head()"
   ]
  },
  {
   "cell_type": "code",
   "execution_count": 68,
   "metadata": {},
   "outputs": [
    {
     "name": "stdout",
     "output_type": "stream",
     "text": [
      "<class 'pandas.core.frame.DataFrame'>\n",
      "RangeIndex: 5727 entries, 0 to 5726\n",
      "Data columns (total 11 columns):\n",
      "_id                    5727 non-null object\n",
      "category_code          5727 non-null object\n",
      "deadpooled_year        0 non-null object\n",
      "description            4065 non-null object\n",
      "founded_year           5727 non-null int64\n",
      "investments            5727 non-null object\n",
      "ipo                    87 non-null object\n",
      "name                   5727 non-null object\n",
      "number_of_employees    5727 non-null int64\n",
      "offices                5727 non-null object\n",
      "tag_list               5633 non-null object\n",
      "dtypes: int64(2), object(9)\n",
      "memory usage: 492.2+ KB\n"
     ]
    }
   ],
   "source": [
    "# check all variables we ask without null have 100% data per register + all companies are currently active\n",
    "data.info()"
   ]
  },
  {
   "cell_type": "markdown",
   "metadata": {},
   "source": [
    "### Working with bins for numerical variables which are decision parameters:"
   ]
  },
  {
   "cell_type": "code",
   "execution_count": 87,
   "metadata": {},
   "outputs": [
    {
     "data": {
      "text/plain": [
       "<matplotlib.axes._subplots.AxesSubplot at 0x7f8c14d8b3c8>"
      ]
     },
     "execution_count": 87,
     "metadata": {},
     "output_type": "execute_result"
    },
    {
     "data": {
      "image/png": "[encoded data removed]",
      "text/plain": [
       "<Figure size 432x288 with 1 Axes>"
      ]
     },
     "metadata": {},
     "output_type": "display_data"
    }
   ],
   "source": [
    "# looking for outliers first:\n",
    "sns.boxplot(x=data['number_of_employees'])\n",
    "# in this case we want a great ratio between big companies and start ups, it's preferible not to remove the big 4"
   ]
  },
  {
   "cell_type": "code",
   "execution_count": 70,
   "metadata": {},
   "outputs": [
    {
     "data": {
      "text/plain": [
       "<matplotlib.axes._subplots.AxesSubplot at 0x7f8c083860b8>"
      ]
     },
     "execution_count": 70,
     "metadata": {},
     "output_type": "execute_result"
    },
    {
     "data": {
      "image/png": "[encoded data removed]",
      "text/plain": [
       "<Figure size 432x288 with 1 Axes>"
      ]
     },
     "metadata": {},
     "output_type": "display_data"
    }
   ],
   "source": [
    "sns.boxplot(x=data['founded_year'])\n",
    "# in this case we want to avoid old companies so it's not recommended to remove them from dataset"
   ]
  },
  {
   "cell_type": "code",
   "execution_count": 102,
   "metadata": {},
   "outputs": [
    {
     "ename": "SyntaxError",
     "evalue": "invalid syntax (<ipython-input-102-d07f2f2bb556>, line 1)",
     "output_type": "error",
     "traceback": [
      "\u001b[0;36m  File \u001b[0;32m\"<ipython-input-102-d07f2f2bb556>\"\u001b[0;36m, line \u001b[0;32m1\u001b[0m\n\u001b[0;31m    data_justforplot = data.where(data[['founded_year']>= 1900 & ['number_of_employees']<=150000]])\u001b[0m\n\u001b[0m                                                                                                 ^\u001b[0m\n\u001b[0;31mSyntaxError\u001b[0m\u001b[0;31m:\u001b[0m invalid syntax\n"
     ]
    }
   ],
   "source": [
    "data_justforplot = data.where(data[['founded_year']>= 1900 & ['number_of_employees']<=150000]])"
   ]
  },
  {
   "cell_type": "code",
   "execution_count": 49,
   "metadata": {},
   "outputs": [
    {
     "data": {
      "text/plain": [
       "<matplotlib.axes._subplots.AxesSubplot at 0x7f8c15972390>"
      ]
     },
     "execution_count": 49,
     "metadata": {},
     "output_type": "execute_result"
    },
    {
     "data": {
      "image/png": "[encoded data removed]",
      "text/plain": [
       "<Figure size 432x288 with 1 Axes>"
      ]
     },
     "metadata": {},
     "output_type": "display_data"
    }
   ],
   "source": [
    "data_justforplot.number_of_employees.hist(bins=20) "
   ]
  },
  {
   "cell_type": "code",
   "execution_count": 36,
   "metadata": {},
   "outputs": [
    {
     "data": {
      "text/plain": [
       "<matplotlib.axes._subplots.AxesSubplot at 0x7f8c15a2b208>"
      ]
     },
     "execution_count": 36,
     "metadata": {},
     "output_type": "execute_result"
    },
    {
     "data": {
      "image/png": "[encoded data removed]",
      "text/plain": [
       "<Figure size 432x288 with 1 Axes>"
      ]
     },
     "metadata": {},
     "output_type": "display_data"
    }
   ],
   "source": [
    "# First we have a look on these variables\n",
    "data.founded_year.hist(bins=20)"
   ]
  },
  {
   "cell_type": "code",
   "execution_count": 114,
   "metadata": {},
   "outputs": [],
   "source": [
    "# creating a function to apply bins with Q1,Q2,Q3 and Q4 and be able to automate when refreshing database\n",
    "def bins_q4(var):\n",
    "    cutoffs_tab = pd.DataFrame(df[var].describe(),index=['count','mean','std','min','q1','q2','median','q3','max'])\n",
    "    bins_labels = ['q1','q2','q3','q4']\n",
    "    cutoffs = [cutoffs_tab[var]['min'],cutoffs_tab[var]['q1'],cutoffs_tab[var]['q2'],cutoffs_tab[var]['q3'],cutoffs_tab[var]['max']]\n",
    "    return pd.cut(df[var],cutoffs, labels=bins_labels)"
   ]
  },
  {
   "cell_type": "code",
   "execution_count": 115,
   "metadata": {},
   "outputs": [
    {
     "ename": "IndexError",
     "evalue": "only integers, slices (`:`), ellipsis (`...`), numpy.newaxis (`None`) and integer or boolean arrays are valid indices",
     "output_type": "error",
     "traceback": [
      "\u001b[0;31m---------------------------------------------------------------------------\u001b[0m",
      "\u001b[0;31mIndexError\u001b[0m                                Traceback (most recent call last)",
      "\u001b[0;32m<ipython-input-115-0e57ad749075>\u001b[0m in \u001b[0;36m<module>\u001b[0;34m()\u001b[0m\n\u001b[1;32m      1\u001b[0m \u001b[0;31m# we apply it to founded year and number of employees:\u001b[0m\u001b[0;34m\u001b[0m\u001b[0;34m\u001b[0m\u001b[0;34m\u001b[0m\u001b[0m\n\u001b[0;32m----> 2\u001b[0;31m \u001b[0mdata\u001b[0m\u001b[0;34m[\u001b[0m\u001b[0;34m'founded_year_bins'\u001b[0m\u001b[0;34m]\u001b[0m \u001b[0;34m=\u001b[0m \u001b[0mbins_q4\u001b[0m\u001b[0;34m(\u001b[0m\u001b[0mdata\u001b[0m\u001b[0;34m[\u001b[0m\u001b[0;34m'founded_year'\u001b[0m\u001b[0;34m]\u001b[0m\u001b[0;34m)\u001b[0m\u001b[0;34m\u001b[0m\u001b[0;34m\u001b[0m\u001b[0m\n\u001b[0m",
      "\u001b[0;31mIndexError\u001b[0m: only integers, slices (`:`), ellipsis (`...`), numpy.newaxis (`None`) and integer or boolean arrays are valid indices"
     ]
    }
   ],
   "source": [
    "# we apply it to founded year and number of employees:\n",
    "data['founded_year_bins'] = bins_q4(data['founded_year'])"
   ]
  },
  {
   "cell_type": "code",
   "execution_count": null,
   "metadata": {},
   "outputs": [],
   "source": [
    "# defining bins: 1) old 2)from Google invention to 1st quartile & mean 3) medi-3rd quartil an 4) 3rd quartile-max\n",
    "\n",
    "def founded_year_bins(var):\n",
    "    pd.DataFrame(df[var].describe(),index=['count','mean','std','min','q1','q2','median','q3','max'])\n",
    "    bins_labels = ['q1','q2','q3','q4']\n",
    "    cutoffs = [1800,2000,2006,2013] \n",
    "    df['tempo_clas'] = pd.cut(df[var],cutoffs, labels=bins_labels)\n",
    "    return df[['tempo','tempo_clas']].head()"
   ]
  },
  {
   "cell_type": "code",
   "execution_count": null,
   "metadata": {},
   "outputs": [],
   "source": [
    "data.founded_year.value_counts()"
   ]
  },
  {
   "cell_type": "code",
   "execution_count": null,
   "metadata": {},
   "outputs": [],
   "source": [
    "# Defining 'Startups': Less than 10 employees"
   ]
  },
  {
   "cell_type": "code",
   "execution_count": null,
   "metadata": {},
   "outputs": [],
   "source": []
  },
  {
   "cell_type": "code",
   "execution_count": null,
   "metadata": {},
   "outputs": [],
   "source": []
  },
  {
   "cell_type": "code",
   "execution_count": null,
   "metadata": {},
   "outputs": [],
   "source": [
    "df = json_normalize (data=x, record_path=['offices'], meta=['name', 'category_code','number_of_employees','founded_year'], errors='ignore')"
   ]
  },
  {
   "cell_type": "code",
   "execution_count": null,
   "metadata": {},
   "outputs": [],
   "source": []
  },
  {
   "cell_type": "code",
   "execution_count": null,
   "metadata": {},
   "outputs": [],
   "source": [
    "# checking the data quantity for our analyse\n",
    "data.shape"
   ]
  },
  {
   "cell_type": "code",
   "execution_count": null,
   "metadata": {},
   "outputs": [],
   "source": [
    "data.category_code.value_counts()"
   ]
  },
  {
   "cell_type": "code",
   "execution_count": null,
   "metadata": {},
   "outputs": [],
   "source": [
    "data.to_json(‘./companies.json’, orient=‘records’, lines=True)"
   ]
  }
 ],
 "metadata": {
  "kernelspec": {
   "display_name": "Python 3",
   "language": "python",
   "name": "python3"
  },
  "language_info": {
   "codemirror_mode": {
    "name": "ipython",
    "version": 3
   },
   "file_extension": ".py",
   "mimetype": "text/x-python",
   "name": "python",
   "nbconvert_exporter": "python",
   "pygments_lexer": "ipython3",
   "version": "3.6.7"
  }
 },
 "nbformat": 4,
 "nbformat_minor": 2
}
