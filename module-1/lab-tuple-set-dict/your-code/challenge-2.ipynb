{
 "cells": [
  {
   "cell_type": "markdown",
   "metadata": {},
   "source": [
    "## Challenge 2: Sets\n",
    "\n",
    "There are a lot to learn about Python Sets and the information presented in the lesson is limited due to its length. To learn Python Sets in depth you are strongly encouraged to review the W3Schools tutorial on [Python Sets Examples and Methods](https://www.w3schools.com/python/python_sets.asp) before you work on this lab. Some difficult questions in this lab have their solutions in the W3Schools tutorial.\n",
    "\n",
    "#### First, import the Python `random` libary"
   ]
  },
  {
   "cell_type": "code",
   "execution_count": 1,
   "metadata": {},
   "outputs": [],
   "source": [
    "import random"
   ]
  },
  {
   "cell_type": "markdown",
   "metadata": {},
   "source": [
    "#### In the cell below, create a list named `sample_list_1` with 80 random values. \n",
    "\n",
    "Requirements:\n",
    "\n",
    "* Each value is an integer falling between 0 and 100.\n",
    "* Each value in the list is unique.\n",
    "\n",
    "Print `sample_list_1` to review its values\n",
    "\n",
    "*Hint: use `random.sample` ([reference](https://docs.python.org/3/library/random.html#random.sample)).*"
   ]
  },
  {
   "cell_type": "code",
   "execution_count": 2,
   "metadata": {},
   "outputs": [
    {
     "name": "stdout",
     "output_type": "stream",
     "text": [
      "[10, 40, 71, 6, 30, 95, 89, 98, 31, 1, 44, 70, 5, 50, 26, 36, 43, 88, 90, 12, 51, 37, 0, 34, 52, 93, 25, 29, 16, 15, 81, 58, 22, 78, 79, 60, 92, 17, 47, 13, 74, 24, 72, 84, 9, 87, 83, 49, 39, 3, 80, 85, 66, 54, 20, 57, 97, 21, 11, 99, 32, 91, 8, 28, 56, 76, 42, 27, 59, 53, 68, 82, 19, 94, 86, 65, 100, 4, 55, 69]\n"
     ]
    }
   ],
   "source": [
    "# Your code here\n",
    "sample_list_1 = random.sample(range(101), k=80)\n",
    "\n",
    "print(sample_list_1)"
   ]
  },
  {
   "cell_type": "markdown",
   "metadata": {},
   "source": [
    "#### Convert `sample_list_1` to a set called `set1`. Print the length of the set. Is its length still 80?"
   ]
  },
  {
   "cell_type": "code",
   "execution_count": 3,
   "metadata": {},
   "outputs": [
    {
     "name": "stdout",
     "output_type": "stream",
     "text": [
      "the set lenght is 80 and the list lenght is 80\n"
     ]
    }
   ],
   "source": [
    "# Your code here\n",
    "set1=set(sample_list_1)\n",
    "print('the set lenght is',len(set1),'and the list lenght is',len(sample_list_1))"
   ]
  },
  {
   "cell_type": "markdown",
   "metadata": {},
   "source": [
    "#### Create another list named `sample_list_2` with 80 random values.\n",
    "\n",
    "Requirements:\n",
    "\n",
    "* Each value is an integer falling between 0 and 100.\n",
    "* The values in the list don't have to be unique.\n",
    "\n",
    "*Hint: Use a FOR loop.*"
   ]
  },
  {
   "cell_type": "code",
   "execution_count": 4,
   "metadata": {},
   "outputs": [
    {
     "name": "stdout",
     "output_type": "stream",
     "text": [
      "[99, 5, 86, 27, 91, 57, 87, 88, 27, 49, 91, 85, 51, 54, 48, 41, 19, 78, 4, 5, 0, 66, 49, 79, 18, 24, 91, 85, 6, 54, 65, 25, 2, 80, 89, 27, 100, 37, 27, 57, 77, 62, 42, 33, 91, 30, 56, 50, 64, 10, 46, 9, 67, 55, 94, 59, 97, 8, 0, 79, 18, 45, 59, 43, 14, 11, 13, 90, 83, 98, 72, 20, 5, 98, 28, 24, 86, 33, 2, 15, 3]\n"
     ]
    }
   ],
   "source": [
    "# Your code here\n",
    "sample_list_2 = []\n",
    "for i in range(81):\n",
    "    sample_list_2.append(random.choice(range(101)))\n",
    "    \n",
    "print(sample_list_2)"
   ]
  },
  {
   "cell_type": "markdown",
   "metadata": {},
   "source": [
    "#### Convert `sample_list_2` to a set called `set2`. Print the length of the set. Is its length still 80?"
   ]
  },
  {
   "cell_type": "code",
   "execution_count": 5,
   "metadata": {},
   "outputs": [
    {
     "name": "stdout",
     "output_type": "stream",
     "text": [
      "the set lenght is 60 and the list lenght is 81\n"
     ]
    }
   ],
   "source": [
    "# Your code here\n",
    "set2 = set(sample_list_2)\n",
    "print('the set lenght is',len(set2),'and the list lenght is',len(sample_list_2))"
   ]
  },
  {
   "cell_type": "code",
   "execution_count": 6,
   "metadata": {},
   "outputs": [
    {
     "name": "stdout",
     "output_type": "stream",
     "text": [
      "len(a)is 5\n",
      "a is {1, 2, 3, 4, 5}\n",
      "b is {4, 5, 6, 7, 8}\n",
      "c is {1, 2, 3}\n",
      "d is {8, 6, 7}\n",
      "e is {4, 5}\n",
      "f is {1, 2, 3, 4, 5}\n",
      "a DOES NOT contain b\n",
      "a contains b\n",
      "{1, 2, 3, 4, 5, 6, 7, 8}\n",
      "pop value in a was 1\n",
      "now a is {2, 3, 4, 5}\n",
      "a now is {2, 3, 5} \n",
      " --> The following 0 elements have been removed: set()\n"
     ]
    }
   ],
   "source": [
    "# just to check easily the next questions\n",
    "a = {1,2,3,4,5}\n",
    "b = {4,5,6,7,8}\n",
    "print('len(a)is',len(a))\n",
    "print('a is',a)\n",
    "print('b is',b)\n",
    "\n",
    "c = a.difference(b)\n",
    "print('c is', c)\n",
    "\n",
    "d = b.difference(a)\n",
    "print('d is', d)\n",
    "\n",
    "e = a.intersection(b)\n",
    "print('e is',e)\n",
    "\n",
    "f=set()\n",
    "f.update(c)\n",
    "f.update(e)\n",
    "print('f is',f)\n",
    "\n",
    "if b.issubset(a) == True:\n",
    "    print('a contains b')\n",
    "else:\n",
    "    print('a DOES NOT contain b')\n",
    "    \n",
    "if c.issubset(a) == True:\n",
    "    print('a contains b')\n",
    "else:\n",
    "    print('a DOES NOT contain c')\n",
    "    \n",
    "t = set.union(c,d,e)\n",
    "print(t)\n",
    "\n",
    "pop = a.pop()\n",
    "print('pop value in a was',pop)\n",
    "print('now a is',a)\n",
    "\n",
    "listnum = [4,6,8]\n",
    "a_anterior = a\n",
    "for i in listnum:\n",
    "    if i in a:\n",
    "        a.discard(i)\n",
    "\n",
    "print('a now is',a,'\\n --> The following',len(a_anterior)-len(a),'elements have been removed:',a_anterior - a)\n",
    "\n",
    "#Nota: el último paso no está funccionando, he intentado a.remove(i), a.discard(i) en caso que diera error y tampoco"
   ]
  },
  {
   "cell_type": "markdown",
   "metadata": {},
   "source": [
    "#### Identify the elements present in `set1` but not in `set2`. Assign the elements to a new set named `set3`."
   ]
  },
  {
   "cell_type": "code",
   "execution_count": 7,
   "metadata": {},
   "outputs": [
    {
     "name": "stdout",
     "output_type": "stream",
     "text": [
      "{1, 12, 16, 17, 21, 22, 26, 29, 31, 32, 34, 36, 39, 40, 44, 47, 52, 53, 58, 60, 68, 69, 70, 71, 74, 76, 81, 82, 84, 92, 93, 95}\n"
     ]
    }
   ],
   "source": [
    "# ahora ya va mi respuesta\n",
    "set3 = set1.difference(set2)\n",
    "print(set3)"
   ]
  },
  {
   "cell_type": "markdown",
   "metadata": {},
   "source": [
    "#### Identify the elements present in `set2` but not in `set1`. Assign the elements to a new set named `set4`."
   ]
  },
  {
   "cell_type": "code",
   "execution_count": 8,
   "metadata": {},
   "outputs": [
    {
     "name": "stdout",
     "output_type": "stream",
     "text": [
      "{64, 33, 2, 67, 41, 45, 14, 46, 48, 77, 18, 62}\n"
     ]
    }
   ],
   "source": [
    "# Your code here\n",
    "set4 = set2.difference(set1)\n",
    "print(set4)"
   ]
  },
  {
   "cell_type": "markdown",
   "metadata": {},
   "source": [
    "#### Now Identify the elements shared between `set1` and `set2`. Assign the elements to a new set named `set5`."
   ]
  },
  {
   "cell_type": "code",
   "execution_count": 9,
   "metadata": {},
   "outputs": [
    {
     "name": "stdout",
     "output_type": "stream",
     "text": [
      "{0, 3, 4, 5, 6, 8, 9, 10, 11, 13, 15, 19, 20, 24, 25, 27, 28, 30, 37, 42, 43, 49, 50, 51, 54, 55, 56, 57, 59, 65, 66, 72, 78, 79, 80, 83, 85, 86, 87, 88, 89, 90, 91, 94, 97, 98, 99, 100}\n"
     ]
    }
   ],
   "source": [
    "# Your code here\n",
    "set5 = set1.intersection(set2)\n",
    "print(set5)"
   ]
  },
  {
   "cell_type": "markdown",
   "metadata": {},
   "source": [
    "#### What is the relationship among the following values:\n",
    "\n",
    "* len(set1)\n",
    "* len(set2)\n",
    "* len(set3)\n",
    "* len(set4)\n",
    "* len(set5)\n",
    "\n",
    "Use a math formular to represent that relationship. Test your formular with Python code."
   ]
  },
  {
   "cell_type": "code",
   "execution_count": 10,
   "metadata": {},
   "outputs": [
    {
     "name": "stdout",
     "output_type": "stream",
     "text": [
      " set1 tiene 80 \n",
      " set2 tiene 60 \n",
      " set3 tiene 32 \n",
      " set4 tiene 12 \n",
      " set5 tiene 48 \n",
      " y por lo tanto la relación de orden entre sets es la siguiente: [12, 32, 48, 60, 80]\n"
     ]
    }
   ],
   "source": [
    "# Your code here\n",
    "relation = [len(set1),len(set2),len(set3),len(set4),len(set5)]\n",
    "sorted_relation = sorted(relation)\n",
    "print(' set1 tiene',len(set1),'\\n set2 tiene',len(set2),'\\n set3 tiene',len(set3),'\\n set4 tiene',len(set4),'\\n set5 tiene',len(set5),'\\n y por lo tanto la relación de orden entre sets es la siguiente:',sorted_relation)\n",
    "#Nota: no estoy segura, lo que he hecho es ordenar los sets por tamaño pero no tengo claro si es eso lo que se está pidiendo"
   ]
  },
  {
   "cell_type": "markdown",
   "metadata": {},
   "source": [
    "#### Create an empty set called `set6`."
   ]
  },
  {
   "cell_type": "code",
   "execution_count": 11,
   "metadata": {},
   "outputs": [],
   "source": [
    "# Your code here\n",
    "set6=set()\n",
    "# Duda: no me funciona si creo el set haciendo set6 = {} --> ¿Por qué?"
   ]
  },
  {
   "cell_type": "markdown",
   "metadata": {},
   "source": [
    "#### Add `set3` and `set5` to `set6` using the Python Set `update` method."
   ]
  },
  {
   "cell_type": "code",
   "execution_count": 12,
   "metadata": {},
   "outputs": [
    {
     "name": "stdout",
     "output_type": "stream",
     "text": [
      "{0, 1, 3, 4, 5, 6, 8, 9, 10, 11, 12, 13, 15, 16, 17, 19, 20, 21, 22, 24, 25, 26, 27, 28, 29, 30, 31, 32, 34, 36, 37, 39, 40, 42, 43, 44, 47, 49, 50, 51, 52, 53, 54, 55, 56, 57, 58, 59, 60, 65, 66, 68, 69, 70, 71, 72, 74, 76, 78, 79, 80, 81, 82, 83, 84, 85, 86, 87, 88, 89, 90, 91, 92, 93, 94, 95, 97, 98, 99, 100}\n"
     ]
    }
   ],
   "source": [
    "# Your code here\n",
    "set6.update(set3)\n",
    "set6.update(set5)\n",
    "print(set6)"
   ]
  },
  {
   "cell_type": "markdown",
   "metadata": {},
   "source": [
    "#### Check if `set1` and `set6` are equal."
   ]
  },
  {
   "cell_type": "code",
   "execution_count": 13,
   "metadata": {},
   "outputs": [
    {
     "name": "stdout",
     "output_type": "stream",
     "text": [
      "len set1 is 80 and len set6 is 80 so they are equal\n"
     ]
    }
   ],
   "source": [
    "# Your code here\n",
    "if set1 == set6:\n",
    "    print('len set1 is',len(set1),'and len set6 is',len(set6),'so they are equal')\n",
    "else:\n",
    "    print('len set1 is',len(set1),'and len set6 is',len(set6),'so they are NOT equal')"
   ]
  },
  {
   "cell_type": "markdown",
   "metadata": {},
   "source": [
    "#### Check if `set1` contains `set2` using the Python Set `issubset` method. Then check if `set1` contains `set3`.*"
   ]
  },
  {
   "cell_type": "code",
   "execution_count": 14,
   "metadata": {},
   "outputs": [
    {
     "name": "stdout",
     "output_type": "stream",
     "text": [
      "set1 DOES NOT contain set2\n",
      "set1 contains set3\n"
     ]
    }
   ],
   "source": [
    "# Your code here\n",
    "if set2.issubset(set1) == True:\n",
    "    print('set1 contains set2')\n",
    "else:\n",
    "    print('set1 DOES NOT contain set2')\n",
    "\n",
    "if set3.issubset(set1) == True:\n",
    "    print('set1 contains set3')\n",
    "else:\n",
    "    print('set1 DOES NOT contain set2')"
   ]
  },
  {
   "cell_type": "markdown",
   "metadata": {},
   "source": [
    "#### Using the Python Set `union` method, aggregate `set3`, `set4`, and `set5`. Then aggregate `set1` and `set2`. \n",
    "\n",
    "#### Check if the aggregated values are equal."
   ]
  },
  {
   "cell_type": "code",
   "execution_count": 15,
   "metadata": {},
   "outputs": [
    {
     "name": "stdout",
     "output_type": "stream",
     "text": [
      "{0, 1, 2, 3, 4, 5, 6, 8, 9, 10, 11, 12, 13, 14, 15, 16, 17, 18, 19, 20, 21, 22, 24, 25, 26, 27, 28, 29, 30, 31, 32, 33, 34, 36, 37, 39, 40, 41, 42, 43, 44, 45, 46, 47, 48, 49, 50, 51, 52, 53, 54, 55, 56, 57, 58, 59, 60, 62, 64, 65, 66, 67, 68, 69, 70, 71, 72, 74, 76, 77, 78, 79, 80, 81, 82, 83, 84, 85, 86, 87, 88, 89, 90, 91, 92, 93, 94, 95, 97, 98, 99, 100}\n"
     ]
    }
   ],
   "source": [
    "# Your code here\n",
    "settotal = set.union(set3,set4,set5)\n",
    "print(settotal)"
   ]
  },
  {
   "cell_type": "markdown",
   "metadata": {},
   "source": [
    "#### Using the `pop` method, remove the first element from `set1`."
   ]
  },
  {
   "cell_type": "code",
   "execution_count": 16,
   "metadata": {},
   "outputs": [
    {
     "name": "stdout",
     "output_type": "stream",
     "text": [
      "0\n",
      "{1, 3, 4, 5, 6, 8, 9, 10, 11, 12, 13, 15, 16, 17, 19, 20, 21, 22, 24, 25, 26, 27, 28, 29, 30, 31, 32, 34, 36, 37, 39, 40, 42, 43, 44, 47, 49, 50, 51, 52, 53, 54, 55, 56, 57, 58, 59, 60, 65, 66, 68, 69, 70, 71, 72, 74, 76, 78, 79, 80, 81, 82, 83, 84, 85, 86, 87, 88, 89, 90, 91, 92, 93, 94, 95, 97, 98, 99, 100}\n"
     ]
    }
   ],
   "source": [
    "# Your code here\n",
    "pop = set1.pop()\n",
    "print(pop)\n",
    "print(set1)"
   ]
  },
  {
   "cell_type": "markdown",
   "metadata": {},
   "source": [
    "#### Remove every element in the following list from `set1` if they are present in the set. Print the remaining elements.\n",
    "\n",
    "```\n",
    "list_to_remove = [1, 9, 11, 19, 21, 29, 31, 39, 41, 49, 51, 59, 61, 69, 71, 79, 81, 89, 91, 99]\n",
    "```"
   ]
  },
  {
   "cell_type": "code",
   "execution_count": 17,
   "metadata": {},
   "outputs": [
    {
     "ename": "SyntaxError",
     "evalue": "invalid syntax (<ipython-input-17-bc36bcaf92e1>, line 13)",
     "output_type": "error",
     "traceback": [
      "\u001b[1;36m  File \u001b[1;32m\"<ipython-input-17-bc36bcaf92e1>\"\u001b[1;36m, line \u001b[1;32m13\u001b[0m\n\u001b[1;33m    https://www.programiz.com/python-programming/methods/set/discard\u001b[0m\n\u001b[1;37m           ^\u001b[0m\n\u001b[1;31mSyntaxError\u001b[0m\u001b[1;31m:\u001b[0m invalid syntax\n"
     ]
    }
   ],
   "source": [
    "# Your code here\n",
    "list_to_remove = [1, 9, 11, 19, 21, 29, 31, 39, 41, 49, 51, 59, 61, 69, 71, 79, 81, 89, 91, 99]\n",
    "\n",
    "set1_anterior = set1\n",
    "for l in list_to_remove:\n",
    "    if l in set1:\n",
    "        set1.remove(l)\n",
    "\n",
    "print('set1 now is:\\n',set1,'\\n --> The following',len(set1_anterior)-len(set1),'elements have been removed:',(set1-set1_anterior))\n",
    "\n",
    "#Nota: el último paso no está funccionando, he intentado set1.remove(l), set1.discard(l) en caso que diera error y tampoco\n",
    "\n",
    "https://www.programiz.com/python-programming/methods/set/discard\n",
    "https://www.programiz.com/python-programming/methods/set/remove"
   ]
  }
 ],
 "metadata": {
  "kernelspec": {
   "display_name": "Python 3",
   "language": "python",
   "name": "python3"
  },
  "language_info": {
   "codemirror_mode": {
    "name": "ipython",
    "version": 3
   },
   "file_extension": ".py",
   "mimetype": "text/x-python",
   "name": "python",
   "nbconvert_exporter": "python",
   "pygments_lexer": "ipython3",
   "version": "3.7.1"
  }
 },
 "nbformat": 4,
 "nbformat_minor": 2
}
