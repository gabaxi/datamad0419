{
 "cells": [
  {
   "cell_type": "markdown",
   "metadata": {},
   "source": [
    "# Advanced Regular Expressions Lab\n",
    "\n",
    "Complete the following set of exercises to solidify your knowledge of regular expressions."
   ]
  },
  {
   "cell_type": "code",
   "execution_count": 1,
   "metadata": {},
   "outputs": [],
   "source": [
    "import re"
   ]
  },
  {
   "cell_type": "markdown",
   "metadata": {},
   "source": [
    "### 1. Use a regular expression to find and extract all vowels in the following text."
   ]
  },
  {
   "cell_type": "code",
   "execution_count": 2,
   "metadata": {},
   "outputs": [],
   "source": [
    "text = \"This is going to be a sentence with a good number of vowels in it.\""
   ]
  },
  {
   "cell_type": "code",
   "execution_count": 8,
   "metadata": {},
   "outputs": [
    {
     "name": "stdout",
     "output_type": "stream",
     "text": [
      "vowels in this text are the following:\n",
      " ['i', 'i', 'o', 'i', 'o', 'e', 'a', 'e', 'e', 'e', 'i', 'a', 'o', 'o', 'u', 'e', 'o', 'o', 'e', 'i', 'i']\n"
     ]
    }
   ],
   "source": [
    "vowels = '[a,e,i,o,u]'\n",
    "print('vowels in this text are the following:\\n',re.findall(vowels, text))"
   ]
  },
  {
   "cell_type": "code",
   "execution_count": 9,
   "metadata": {},
   "outputs": [
    {
     "name": "stdout",
     "output_type": "stream",
     "text": [
      "and remaining text is the following:\n",
      " Ths s gng t b  sntnc wth  gd nmbr f vwls n t.\n"
     ]
    }
   ],
   "source": [
    "vowels = '[a,e,i,o,u]'\n",
    "print('and remaining text is the following:\\n',re.sub(vowels,'',text))"
   ]
  },
  {
   "cell_type": "markdown",
   "metadata": {},
   "source": [
    "### 2. Use a regular expression to find and extract all occurrences and tenses (singular and plural) of the word \"puppy\" in the text below."
   ]
  },
  {
   "cell_type": "code",
   "execution_count": 10,
   "metadata": {},
   "outputs": [],
   "source": [
    "text = \"The puppy saw all the rest of the puppies playing and wanted to join them. I saw this and wanted a puppy of my own!\""
   ]
  },
  {
   "cell_type": "code",
   "execution_count": 23,
   "metadata": {},
   "outputs": [
    {
     "name": "stdout",
     "output_type": "stream",
     "text": [
      "all occurrences and tenses (singular and plural) of the word \"puppy\" are:\n",
      " ['puppy', 'puppies', 'puppy']\n"
     ]
    }
   ],
   "source": [
    "puppy = 'pup\\w*'\n",
    "print('all occurrences and tenses (singular and plural) of the word \"puppy\" are:\\n',re.findall(puppy, text))"
   ]
  },
  {
   "cell_type": "markdown",
   "metadata": {},
   "source": [
    "### 3. Use a regular expression to find and extract all tenses (present and past) of the word \"run\" in the text below."
   ]
  },
  {
   "cell_type": "code",
   "execution_count": 33,
   "metadata": {},
   "outputs": [],
   "source": [
    "text = \"I ran the relay race the only way I knew how to run it.\""
   ]
  },
  {
   "cell_type": "code",
   "execution_count": 37,
   "metadata": {},
   "outputs": [
    {
     "name": "stdout",
     "output_type": "stream",
     "text": [
      "all occurrences and tenses (present and past) of the word \"run\" are:\n",
      " ['ran', 'run']\n"
     ]
    }
   ],
   "source": [
    "run = 'r\\w*n'\n",
    "print('all tenses (present and past) of the word \"run\" are:\\n',re.findall(run, text))"
   ]
  },
  {
   "cell_type": "markdown",
   "metadata": {},
   "source": [
    "### 4. Use a regular expression to find and extract all words that begin with the letter \"r\" from the previous text."
   ]
  },
  {
   "cell_type": "code",
   "execution_count": 39,
   "metadata": {},
   "outputs": [
    {
     "name": "stdout",
     "output_type": "stream",
     "text": [
      "all words than begin with the letter \"r\" are:\n",
      " ['ran', 'relay', 'race', 'run']\n"
     ]
    }
   ],
   "source": [
    "r = 'r\\w+'\n",
    "print('all words than begin with the letter \"r\" are:\\n',re.findall(r, text))"
   ]
  },
  {
   "cell_type": "markdown",
   "metadata": {},
   "source": [
    "### 5. Use a regular expression to find and substitute the letter \"i\" for the exclamation marks in the text below."
   ]
  },
  {
   "cell_type": "code",
   "execution_count": 40,
   "metadata": {},
   "outputs": [],
   "source": [
    "text = \"Th!s !s a sentence w!th spec!al characters !n !t.\""
   ]
  },
  {
   "cell_type": "code",
   "execution_count": 41,
   "metadata": {},
   "outputs": [
    {
     "name": "stdout",
     "output_type": "stream",
     "text": [
      "finding and substituting the letter \"i\" for the exclamation marks in the text below:\n",
      " This is a sentence with special characters in it.\n"
     ]
    }
   ],
   "source": [
    "torep = '!'\n",
    "print('finding and substituting the letter \"i\" for the exclamation marks in the text below:\\n',re.sub(torep,'i', text))"
   ]
  },
  {
   "cell_type": "markdown",
   "metadata": {},
   "source": [
    "### 6. Use a regular expression to find and extract words longer than 4 characters in the text below."
   ]
  },
  {
   "cell_type": "code",
   "execution_count": 42,
   "metadata": {},
   "outputs": [],
   "source": [
    "text = \"This sentence has words of varying lengths.\""
   ]
  },
  {
   "cell_type": "code",
   "execution_count": 91,
   "metadata": {},
   "outputs": [
    {
     "name": "stdout",
     "output_type": "stream",
     "text": [
      "all words longer than 4 characters are:\n",
      " ['sentence', 'words', 'varying', 'lengths']\n"
     ]
    }
   ],
   "source": [
    "c = '[\\w+]{5}[\\w]*'\n",
    "print('all words longer than 4 characters are:\\n',re.findall(c, text))"
   ]
  },
  {
   "cell_type": "code",
   "execution_count": 92,
   "metadata": {},
   "outputs": [
    {
     "name": "stdout",
     "output_type": "stream",
     "text": [
      "all words longer than 3 characters are:\n",
      " ['This', 'sentence', 'words', 'varying', 'lengths']\n"
     ]
    }
   ],
   "source": [
    "c = '[\\w+]{4}[\\w]*'\n",
    "print('all words longer than 3 characters are:\\n',re.findall(c, text))"
   ]
  },
  {
   "cell_type": "markdown",
   "metadata": {},
   "source": [
    "### 7. Use a regular expression to find and extract all occurrences of the letter \"b\", some letter(s), and then the letter \"t\" in the sentence below."
   ]
  },
  {
   "cell_type": "code",
   "execution_count": 124,
   "metadata": {},
   "outputs": [],
   "source": [
    "text = \"I bet the robot couldn't beat the other bot with a bat, but instead it bit me.\""
   ]
  },
  {
   "cell_type": "code",
   "execution_count": 128,
   "metadata": {},
   "outputs": [
    {
     "name": "stdout",
     "output_type": "stream",
     "text": [
      "all WORDS with occurrences of the letter \"b\", some letter(s), and then the letter \"t\" are:\n",
      " ['bet', 'robot', 'beat', 'bot', 'bat', 'but', 'bit']\n"
     ]
    }
   ],
   "source": [
    "b = '[\\w]*?b\\w*t'\n",
    "print('all WORDS with occurrences of the letter \"b\", some letter(s), and then the letter \"t\" are:\\n',re.findall(b, text))"
   ]
  },
  {
   "cell_type": "code",
   "execution_count": 127,
   "metadata": {},
   "outputs": [
    {
     "name": "stdout",
     "output_type": "stream",
     "text": [
      "all occurrences (but NOT WORDS) of the letter \"b\", some letter(s), and then the letter \"t\" are:\n",
      " ['bet', 'bot', 'beat', 'bot', 'bat', 'but', 'bit']\n"
     ]
    }
   ],
   "source": [
    "b = 'b\\w*t'\n",
    "print('all occurrences (but NOT WORDS) of the letter \"b\", some letter(s), and then the letter \"t\" are:\\n',re.findall(b, text))"
   ]
  },
  {
   "cell_type": "markdown",
   "metadata": {},
   "source": [
    "### 8. Use a regular expression to find and extract all words that contain either \"ea\" or \"eo\" in them."
   ]
  },
  {
   "cell_type": "code",
   "execution_count": 129,
   "metadata": {},
   "outputs": [],
   "source": [
    "text = \"During many of the peaks and troughs of history, the people living it didn't fully realize what was unfolding. But we all know we're navigating breathtaking history: Nearly every day could be — maybe will be — a book.\""
   ]
  },
  {
   "cell_type": "code",
   "execution_count": 139,
   "metadata": {},
   "outputs": [
    {
     "name": "stdout",
     "output_type": "stream",
     "text": [
      "words that contain either \"ea\" or \"eo\" are:\n",
      " ['peaks ', ' people', 'realize ', 'breathtaking ', 'Nearly ']\n"
     ]
    }
   ],
   "source": [
    "e = '[\\w]*?ea\\w* | [\\w]*?eo\\w*'\n",
    "print('words that contain either \"ea\" or \"eo\" are:\\n',re.findall(e, text))"
   ]
  },
  {
   "cell_type": "markdown",
   "metadata": {},
   "source": [
    "### 9. Use a regular expression to find and extract all the capitalized words in the text below individually."
   ]
  },
  {
   "cell_type": "code",
   "execution_count": 144,
   "metadata": {},
   "outputs": [],
   "source": [
    "text = \"Teddy Roosevelt and Abraham Lincoln walk into a bar.\""
   ]
  },
  {
   "cell_type": "code",
   "execution_count": 145,
   "metadata": {},
   "outputs": [
    {
     "name": "stdout",
     "output_type": "stream",
     "text": [
      "capitalized words  are:\n",
      " ['Teddy', 'Roosevelt', 'Abraham', 'Lincoln']\n"
     ]
    }
   ],
   "source": [
    "capi = '[A-Z][a-z]+'\n",
    "print('capitalized words  are:\\n',re.findall(capi, text))"
   ]
  },
  {
   "cell_type": "markdown",
   "metadata": {},
   "source": [
    "### 10. Use a regular expression to find and extract all the sets of consecutive capitalized words in the text above."
   ]
  },
  {
   "cell_type": "code",
   "execution_count": 149,
   "metadata": {},
   "outputs": [
    {
     "name": "stdout",
     "output_type": "stream",
     "text": [
      "sets of consecutive capitalized words  are:\n",
      " ['Teddy Roosevelt', 'Abraham Lincoln']\n"
     ]
    }
   ],
   "source": [
    "conscapi = '[A-Z][a-z]+\\s[A-Z][a-z]+'\n",
    "print('sets of consecutive capitalized words  are:\\n',re.findall(conscapi, text))"
   ]
  },
  {
   "cell_type": "markdown",
   "metadata": {},
   "source": [
    "### 11. Use a regular expression to find and extract all the quotes from the text below.\n",
    "\n",
    "*Hint: This one is a little more complex than the single quote example in the lesson because there are multiple quotes in the text.*"
   ]
  },
  {
   "cell_type": "code",
   "execution_count": 150,
   "metadata": {},
   "outputs": [],
   "source": [
    "text = 'Roosevelt says to Lincoln, \"I will bet you $50 I can get the bartender to give me a free drink.\" Lincoln says, \"I am in!\"'"
   ]
  },
  {
   "cell_type": "code",
   "execution_count": 153,
   "metadata": {},
   "outputs": [
    {
     "name": "stdout",
     "output_type": "stream",
     "text": [
      "TEXTS IN QUOTES are:\n",
      " ['I will bet you $50 I can get the bartender to give me a free drink.', 'I am in!']\n"
     ]
    }
   ],
   "source": [
    "textquotes = '\"([^\"]*)\"'\n",
    "print('TEXTS IN QUOTES are:\\n',re.findall(textquotes, text))"
   ]
  },
  {
   "cell_type": "code",
   "execution_count": 163,
   "metadata": {},
   "outputs": [
    {
     "name": "stdout",
     "output_type": "stream",
     "text": [
      "ONLY QUOTES are:\n",
      " ['\"', '\"', '\"', '\"']\n"
     ]
    }
   ],
   "source": [
    "onlyquotes = '[\"]'\n",
    "print('ONLY QUOTES are:\\n',re.findall(onlyquotes, text))"
   ]
  },
  {
   "cell_type": "code",
   "execution_count": 164,
   "metadata": {},
   "outputs": [
    {
     "name": "stdout",
     "output_type": "stream",
     "text": [
      "TEXT WHITHOUT QUOTES is:\n",
      " Roosevelt says to Lincoln, I will bet you $50 I can get the bartender to give me a free drink. Lincoln says, I am in!\n"
     ]
    }
   ],
   "source": [
    "onlyquotes = '[\"]'\n",
    "print('TEXT WHITHOUT QUOTES is:\\n',re.sub(onlyquotes,'', text))"
   ]
  },
  {
   "cell_type": "markdown",
   "metadata": {},
   "source": [
    "### 12. Use a regular expression to find and extract all the numbers from the text below."
   ]
  },
  {
   "cell_type": "code",
   "execution_count": 165,
   "metadata": {},
   "outputs": [],
   "source": [
    "text = \"There were 30 students in the class. Of the 30 students, 14 were male and 16 were female. Only 10 students got A's on the exam.\""
   ]
  },
  {
   "cell_type": "code",
   "execution_count": 166,
   "metadata": {},
   "outputs": [
    {
     "name": "stdout",
     "output_type": "stream",
     "text": [
      "numbers are:\n",
      " ['30', '30', '14', '16', '10']\n"
     ]
    }
   ],
   "source": [
    "numbers = '[0-9]+'\n",
    "print('numbers are:\\n',re.findall(numbers, text))"
   ]
  },
  {
   "cell_type": "markdown",
   "metadata": {},
   "source": [
    "### 13. Use a regular expression to find and extract all the social security numbers from the text below."
   ]
  },
  {
   "cell_type": "code",
   "execution_count": 275,
   "metadata": {},
   "outputs": [],
   "source": [
    "text = \"\"\"\n",
    "Henry's social security number is 876-93-2289 and his phone number is (847)789-0984.\n",
    "Darlene's social security number is 098-32-5295 and her phone number is (987)222-0901.\n",
    "\"\"\""
   ]
  },
  {
   "cell_type": "code",
   "execution_count": 218,
   "metadata": {
    "scrolled": true
   },
   "outputs": [
    {
     "name": "stdout",
     "output_type": "stream",
     "text": [
      "social security number are:\n",
      " ['876-93-228', '098-32-529']\n"
     ]
    }
   ],
   "source": [
    "socialsecunum = '[0-9]{3}\\-?[0-9]{2}\\-?[0-9]{3}'\n",
    "print('social security number are:\\n',re.findall(socialsecunum, text))"
   ]
  },
  {
   "cell_type": "markdown",
   "metadata": {},
   "source": [
    "### 14. Use a regular expression to find and extract all the phone numbers from the text below."
   ]
  },
  {
   "cell_type": "code",
   "execution_count": 280,
   "metadata": {},
   "outputs": [
    {
     "name": "stdout",
     "output_type": "stream",
     "text": [
      "phone numbers are:\n",
      " ['(847)789-0984', '(987)222-0901']\n"
     ]
    }
   ],
   "source": [
    "phonenum = '[(]?[0-9]{3}[)]?[0-9]{3}\\-?[0-9]{4}'\n",
    "print('phone numbers are:\\n',re.findall(phonenum, text))"
   ]
  },
  {
   "cell_type": "markdown",
   "metadata": {},
   "source": [
    "### 15. Use a regular expression to find and extract all the formatted numbers (both social security and phone) from the text below."
   ]
  },
  {
   "cell_type": "code",
   "execution_count": 285,
   "metadata": {},
   "outputs": [
    {
     "name": "stdout",
     "output_type": "stream",
     "text": [
      "both numbers are:\n",
      " [('876-93-228', ''), ('', '(847)789-0984'), ('098-32-529', ''), ('', '(987)222-0901')]\n"
     ]
    }
   ],
   "source": [
    "oneorother = '([0-9]{3}\\-?[0-9]{2}\\-?[0-9]{3})|([(]?[0-9]{3}[)]?[0-9]{3}\\-?[0-9]{4})'\n",
    "print('both numbers are:\\n',re.findall(oneorother, text))"
   ]
  },
  {
   "cell_type": "code",
   "execution_count": 286,
   "metadata": {},
   "outputs": [
    {
     "name": "stdout",
     "output_type": "stream",
     "text": [
      "both numbers are:\n",
      " ['876-93-2289', '(847)789-0984', '098-32-5295', '(987)222-0901']\n"
     ]
    }
   ],
   "source": [
    "both = '[(]?[0-9]{3}[)]?\\-?[0-9]{2}[0-9]*\\-?[0-9]{3}[0-9]*'\n",
    "print('both numbers are:\\n',re.findall(both, text))"
   ]
  }
 ],
 "metadata": {
  "kernelspec": {
   "display_name": "Python 3",
   "language": "python",
   "name": "python3"
  },
  "language_info": {
   "codemirror_mode": {
    "name": "ipython",
    "version": 3
   },
   "file_extension": ".py",
   "mimetype": "text/x-python",
   "name": "python",
   "nbconvert_exporter": "python",
   "pygments_lexer": "ipython3",
   "version": "3.6.7"
  }
 },
 "nbformat": 4,
 "nbformat_minor": 2
}
