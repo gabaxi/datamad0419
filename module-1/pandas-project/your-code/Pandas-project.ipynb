{
 "cells": [
  {
   "cell_type": "markdown",
   "metadata": {},
   "source": [
    "# :Shark Attack!!!"
   ]
  },
  {
   "cell_type": "markdown",
   "metadata": {},
   "source": [
    "http://www.sharkattackfile.net/incidentlog.htm\n",
    "https://github.com/awesomedata/awesome-public-datasets\n",
    "https://www.kaggle.com/teajay/global-shark-attacks/version/1#GSAF5.csv\n",
    "https://pandas.pydata.org/pandas-docs/stable/"
   ]
  },
  {
   "cell_type": "markdown",
   "metadata": {},
   "source": [
    "Ideas de hipótesis:\n",
    "evolución de ataques por tipo de incidentes, por zona y especies de tiburones\n",
    "evolución de incidencia\n",
    "https://www.tiburonpedia.com/"
   ]
  },
  {
   "cell_type": "markdown",
   "metadata": {},
   "source": [
    "![ChessUrl](<iframe src=\"https://giphy.com/embed/cCvWHbfVdn2bm\" width=\"480\" height=\"270\" frameBorder=\"0\" class=\"giphy-embed\" allowFullScreen></iframe><p><a href=\"https://giphy.com/gifs/shark-sharks-week-cCvWHbfVdn2bm\">via GIPHY</a></p> \"chess\")"
   ]
  },
  {
   "cell_type": "code",
   "execution_count": 20,
   "metadata": {},
   "outputs": [],
   "source": [
    "#Importing Pandas\n",
    "import pandas as pd\n",
    "import numpy as np\n",
    "import re"
   ]
  },
  {
   "cell_type": "code",
   "execution_count": 2,
   "metadata": {},
   "outputs": [],
   "source": [
    "#Importing data using Pandas\n",
    "df = pd.read_csv('../GSAF5.csv',encoding = 'ISO-8859-1')"
   ]
  },
  {
   "cell_type": "code",
   "execution_count": 3,
   "metadata": {},
   "outputs": [
    {
     "data": {
      "text/plain": [
       "5992"
      ]
     },
     "execution_count": 3,
     "metadata": {},
     "output_type": "execute_result"
    }
   ],
   "source": [
    "# rows in dataFrame\n",
    "len(df)"
   ]
  },
  {
   "cell_type": "code",
   "execution_count": 4,
   "metadata": {},
   "outputs": [
    {
     "data": {
      "text/plain": [
       "(5992, 24)"
      ]
     },
     "metadata": {},
     "output_type": "display_data"
    }
   ],
   "source": [
    "# dataFrame shape: rows and columns\n",
    "display(df.shape)"
   ]
  },
  {
   "cell_type": "code",
   "execution_count": 5,
   "metadata": {},
   "outputs": [
    {
     "data": {
      "text/plain": [
       "Index(['Case Number', 'Date', 'Year', 'Type', 'Country', 'Area', 'Location',\n",
       "       'Activity', 'Name', 'Sex ', 'Age', 'Injury', 'Fatal (Y/N)', 'Time',\n",
       "       'Species ', 'Investigator or Source', 'pdf', 'href formula', 'href',\n",
       "       'Case Number.1', 'Case Number.2', 'original order', 'Unnamed: 22',\n",
       "       'Unnamed: 23'],\n",
       "      dtype='object')"
      ]
     },
     "execution_count": 5,
     "metadata": {},
     "output_type": "execute_result"
    }
   ],
   "source": [
    "# checking which variables are in the dataset\n",
    "df.columns\n",
    "# observation: we can see that there are white spaces in texts --> next step: clean it"
   ]
  },
  {
   "cell_type": "code",
   "execution_count": 6,
   "metadata": {},
   "outputs": [
    {
     "name": "stdout",
     "output_type": "stream",
     "text": [
      "<class 'pandas.core.frame.DataFrame'>\n",
      "RangeIndex: 5992 entries, 0 to 5991\n",
      "Data columns (total 24 columns):\n",
      "Case Number               5992 non-null object\n",
      "Date                      5992 non-null object\n",
      "Year                      5992 non-null int64\n",
      "Type                      5992 non-null object\n",
      "Country                   5949 non-null object\n",
      "Area                      5590 non-null object\n",
      "Location                  5496 non-null object\n",
      "Activity                  5465 non-null object\n",
      "Name                      5792 non-null object\n",
      "Sex                       5425 non-null object\n",
      "Age                       3311 non-null object\n",
      "Injury                    5965 non-null object\n",
      "Fatal (Y/N)               5973 non-null object\n",
      "Time                      2779 non-null object\n",
      "Species                   3058 non-null object\n",
      "Investigator or Source    5977 non-null object\n",
      "pdf                       5992 non-null object\n",
      "href formula              5991 non-null object\n",
      "href                      5989 non-null object\n",
      "Case Number.1             5992 non-null object\n",
      "Case Number.2             5992 non-null object\n",
      "original order            5992 non-null int64\n",
      "Unnamed: 22               1 non-null object\n",
      "Unnamed: 23               2 non-null object\n",
      "dtypes: int64(2), object(22)\n",
      "memory usage: 1.1+ MB\n"
     ]
    }
   ],
   "source": [
    "# checking data quantity in these variables\n",
    "info = df.info()\n",
    "# we can see that we have few data for time, age and species\n",
    "# the 2 last columns are empty (unamed: 22 and unamed: 23) --> next step: drop them\n",
    "# observation: case number, pdf, href and href formula, case number. 1 and case number 2, \n",
    "# original order and Investigator or Source are not relevant data --> next step: drop them"
   ]
  },
  {
   "cell_type": "code",
   "execution_count": 9,
   "metadata": {},
   "outputs": [],
   "source": [
    "# removing white spaces in columns name:\n",
    "df = df.rename(columns=lambda x: x.strip())\n",
    "df.columns"
   ]
  },
  {
   "cell_type": "code",
   "execution_count": 11,
   "metadata": {},
   "outputs": [],
   "source": [
    "# removing white spaces in values:\n",
    "# select columns with variables containing strings:\n",
    "df_obj = df.select_dtypes(['object'])\n",
    "# strip leading and trailing space: removing spaces from both left and right side of the strings\n",
    "df[df_obj.columns] = df_obj.apply(lambda x: x.str.strip())\n",
    "df.head(10)"
   ]
  },
  {
   "cell_type": "code",
   "execution_count": 8,
   "metadata": {},
   "outputs": [
    {
     "name": "stdout",
     "output_type": "stream",
     "text": [
      "<class 'pandas.core.frame.DataFrame'>\n",
      "RangeIndex: 5992 entries, 0 to 5991\n",
      "Data columns (total 14 columns):\n",
      "Date           5992 non-null object\n",
      "Year           5992 non-null int64\n",
      "Type           5992 non-null object\n",
      "Country        5949 non-null object\n",
      "Area           5590 non-null object\n",
      "Location       5496 non-null object\n",
      "Activity       5465 non-null object\n",
      "Name           5792 non-null object\n",
      "Sex            5425 non-null object\n",
      "Age            3311 non-null object\n",
      "Injury         5965 non-null object\n",
      "Fatal (Y/N)    5973 non-null object\n",
      "Time           2779 non-null object\n",
      "Species        3058 non-null object\n",
      "dtypes: int64(1), object(13)\n",
      "memory usage: 655.5+ KB\n"
     ]
    }
   ],
   "source": [
    "# drop empty columns + variables not relevant for analysis:\n",
    "df = df.drop(columns=['Case Number', 'Investigator or Source','pdf','href formula','href','Case Number.1','Case Number.2','original order','Unnamed: 22','Unnamed: 23'])\n",
    "info = df.info()"
   ]
  },
  {
   "cell_type": "code",
   "execution_count": 7,
   "metadata": {},
   "outputs": [
    {
     "data": {
      "text/plain": [
       "Case Number               5976\n",
       "Date                      5128\n",
       "Year                       232\n",
       "Type                         6\n",
       "Country                    203\n",
       "Area                       785\n",
       "Location                  3929\n",
       "Activity                  1492\n",
       "Name                      5009\n",
       "Sex                          6\n",
       "Age                        151\n",
       "Injury                    3595\n",
       "Fatal (Y/N)                  8\n",
       "Time                       357\n",
       "Species                   1538\n",
       "Investigator or Source    4752\n",
       "pdf                       5981\n",
       "href formula              5980\n",
       "href                      5972\n",
       "Case Number.1             5975\n",
       "Case Number.2             5976\n",
       "original order            5988\n",
       "Unnamed: 22                  1\n",
       "Unnamed: 23                  2\n",
       "dtype: int64"
      ]
     },
     "execution_count": 7,
     "metadata": {},
     "output_type": "execute_result"
    }
   ],
   "source": [
    "# checking data quality: how normalized and structured (distinct values) are data in these variables \n",
    "# Type, Sex, Year, Fatal (Y/N), Age, Country, Time, Area are the most structured data.\n",
    "# Then, if we work on clean mentions, maybe we can extract a better quality for Activity and Species \n",
    "df.nunique()"
   ]
  },
  {
   "cell_type": "markdown",
   "metadata": {},
   "source": [
    "# Summary Data flow per variable:\n",
    "- column 0: raw number --> drop\n",
    "- Case Number ---> drop\n",
    "- Date --> relevant\n",
    "- Year --> relevant\n",
    "- Type  --> relevant\n",
    "- Country  --> relevant\n",
    "- Area  --> relevant\n",
    "- Location  --> relevant\n",
    "- Activity --> relevant\n",
    "- Name --> not relevant for analysis, but we keep it to remove duplicated registers\n",
    "- Sex --> relevant\n",
    "- Age --> relevant\n",
    "- Injury --> relevant\n",
    "- Fatal (Y/N) --> relevant\n",
    "- Time --> relevant\n",
    "- Species --> relevant \n",
    "- Investigator or Source --> drop\n",
    "- pdf --> drop\n",
    "- href formula --> drop\n",
    "- href --> drop\n",
    "- Case Number.1 --> drop\n",
    "- Case Number.2 --> drop\n",
    "- original order --> drop\n",
    "- Unnamed: 22 --> drop\n",
    "- Unnamed: 23 --> drop"
   ]
  },
  {
   "cell_type": "code",
   "execution_count": 14,
   "metadata": {},
   "outputs": [],
   "source": [
    "# we will create a norm_data only with columns with normalized data:\n",
    "norm_data = df[['Type', 'Sex', 'Year', 'Date','Fatal (Y/N)', 'Age', 'Country', 'Time', 'Area', 'Activity','Species']]"
   ]
  },
  {
   "cell_type": "code",
   "execution_count": 15,
   "metadata": {},
   "outputs": [
    {
     "data": {
      "text/html": [
       "<div>\n",
       "<style scoped>\n",
       "    .dataframe tbody tr th:only-of-type {\n",
       "        vertical-align: middle;\n",
       "    }\n",
       "\n",
       "    .dataframe tbody tr th {\n",
       "        vertical-align: top;\n",
       "    }\n",
       "\n",
       "    .dataframe thead th {\n",
       "        text-align: right;\n",
       "    }\n",
       "</style>\n",
       "<table border=\"1\" class=\"dataframe\">\n",
       "  <thead>\n",
       "    <tr style=\"text-align: right;\">\n",
       "      <th></th>\n",
       "      <th>Type</th>\n",
       "      <th>Sex</th>\n",
       "      <th>Year</th>\n",
       "      <th>Date</th>\n",
       "      <th>Fatal (Y/N)</th>\n",
       "      <th>Age</th>\n",
       "      <th>Country</th>\n",
       "      <th>Time</th>\n",
       "      <th>Area</th>\n",
       "      <th>Activity</th>\n",
       "      <th>Species</th>\n",
       "    </tr>\n",
       "  </thead>\n",
       "  <tbody>\n",
       "    <tr>\n",
       "      <th>0</th>\n",
       "      <td>Unprovoked</td>\n",
       "      <td>M</td>\n",
       "      <td>2016</td>\n",
       "      <td>18-Sep-16</td>\n",
       "      <td>N</td>\n",
       "      <td>16</td>\n",
       "      <td>USA</td>\n",
       "      <td>13h00</td>\n",
       "      <td>Florida</td>\n",
       "      <td>Surfing</td>\n",
       "      <td>NaN</td>\n",
       "    </tr>\n",
       "    <tr>\n",
       "      <th>1</th>\n",
       "      <td>Unprovoked</td>\n",
       "      <td>M</td>\n",
       "      <td>2016</td>\n",
       "      <td>18-Sep-16</td>\n",
       "      <td>N</td>\n",
       "      <td>36</td>\n",
       "      <td>USA</td>\n",
       "      <td>11h00</td>\n",
       "      <td>Florida</td>\n",
       "      <td>Surfing</td>\n",
       "      <td>NaN</td>\n",
       "    </tr>\n",
       "    <tr>\n",
       "      <th>2</th>\n",
       "      <td>Unprovoked</td>\n",
       "      <td>M</td>\n",
       "      <td>2016</td>\n",
       "      <td>18-Sep-16</td>\n",
       "      <td>N</td>\n",
       "      <td>43</td>\n",
       "      <td>USA</td>\n",
       "      <td>10h43</td>\n",
       "      <td>Florida</td>\n",
       "      <td>Surfing</td>\n",
       "      <td>NaN</td>\n",
       "    </tr>\n",
       "    <tr>\n",
       "      <th>3</th>\n",
       "      <td>Unprovoked</td>\n",
       "      <td>M</td>\n",
       "      <td>2016</td>\n",
       "      <td>17-Sep-16</td>\n",
       "      <td>N</td>\n",
       "      <td>NaN</td>\n",
       "      <td>AUSTRALIA</td>\n",
       "      <td>NaN</td>\n",
       "      <td>Victoria</td>\n",
       "      <td>Surfing</td>\n",
       "      <td>NaN</td>\n",
       "    </tr>\n",
       "    <tr>\n",
       "      <th>4</th>\n",
       "      <td>Unprovoked</td>\n",
       "      <td>M</td>\n",
       "      <td>2016</td>\n",
       "      <td>16-Sep-16</td>\n",
       "      <td>N</td>\n",
       "      <td>NaN</td>\n",
       "      <td>AUSTRALIA</td>\n",
       "      <td>NaN</td>\n",
       "      <td>Victoria</td>\n",
       "      <td>Surfing</td>\n",
       "      <td>2 m shark</td>\n",
       "    </tr>\n",
       "    <tr>\n",
       "      <th>5</th>\n",
       "      <td>Boat</td>\n",
       "      <td>NaN</td>\n",
       "      <td>2016</td>\n",
       "      <td>15-Sep-16</td>\n",
       "      <td>N</td>\n",
       "      <td>NaN</td>\n",
       "      <td>AUSTRALIA</td>\n",
       "      <td>NaN</td>\n",
       "      <td>Western Australia</td>\n",
       "      <td>Fishing</td>\n",
       "      <td>NaN</td>\n",
       "    </tr>\n",
       "    <tr>\n",
       "      <th>6</th>\n",
       "      <td>Unprovoked</td>\n",
       "      <td>M</td>\n",
       "      <td>2016</td>\n",
       "      <td>11-Sep-16</td>\n",
       "      <td>N</td>\n",
       "      <td>60s</td>\n",
       "      <td>USA</td>\n",
       "      <td>15h15</td>\n",
       "      <td>Florida</td>\n",
       "      <td>Wading</td>\n",
       "      <td>3' to 4' shark</td>\n",
       "    </tr>\n",
       "    <tr>\n",
       "      <th>7</th>\n",
       "      <td>Unprovoked</td>\n",
       "      <td>F</td>\n",
       "      <td>2016</td>\n",
       "      <td>07-Sep-16</td>\n",
       "      <td>N</td>\n",
       "      <td>51</td>\n",
       "      <td>USA</td>\n",
       "      <td>14h30</td>\n",
       "      <td>Hawaii</td>\n",
       "      <td>Swimming</td>\n",
       "      <td>Tiger shark, 10?</td>\n",
       "    </tr>\n",
       "    <tr>\n",
       "      <th>8</th>\n",
       "      <td>Unprovoked</td>\n",
       "      <td>M</td>\n",
       "      <td>2016</td>\n",
       "      <td>06-Sep-16</td>\n",
       "      <td>Y</td>\n",
       "      <td>50</td>\n",
       "      <td>NEW CALEDONIA</td>\n",
       "      <td>15h40</td>\n",
       "      <td>North Province</td>\n",
       "      <td>Kite surfing</td>\n",
       "      <td>NaN</td>\n",
       "    </tr>\n",
       "    <tr>\n",
       "      <th>9</th>\n",
       "      <td>Unprovoked</td>\n",
       "      <td>F</td>\n",
       "      <td>2016</td>\n",
       "      <td>05-Sep-16</td>\n",
       "      <td>N</td>\n",
       "      <td>12</td>\n",
       "      <td>USA</td>\n",
       "      <td>Late afternoon</td>\n",
       "      <td>South Carolina</td>\n",
       "      <td>Boogie boarding</td>\n",
       "      <td>NaN</td>\n",
       "    </tr>\n",
       "  </tbody>\n",
       "</table>\n",
       "</div>"
      ],
      "text/plain": [
       "         Type  Sex  Year       Date Fatal (Y/N)  Age        Country  \\\n",
       "0  Unprovoked    M  2016  18-Sep-16           N   16            USA   \n",
       "1  Unprovoked    M  2016  18-Sep-16           N   36            USA   \n",
       "2  Unprovoked    M  2016  18-Sep-16           N   43            USA   \n",
       "3  Unprovoked    M  2016  17-Sep-16           N  NaN      AUSTRALIA   \n",
       "4  Unprovoked    M  2016  16-Sep-16           N  NaN      AUSTRALIA   \n",
       "5        Boat  NaN  2016  15-Sep-16           N  NaN      AUSTRALIA   \n",
       "6  Unprovoked    M  2016  11-Sep-16           N  60s            USA   \n",
       "7  Unprovoked    F  2016  07-Sep-16           N   51            USA   \n",
       "8  Unprovoked    M  2016  06-Sep-16           Y   50  NEW CALEDONIA   \n",
       "9  Unprovoked    F  2016  05-Sep-16           N   12            USA   \n",
       "\n",
       "             Time               Area         Activity           Species  \n",
       "0           13h00            Florida          Surfing               NaN  \n",
       "1           11h00            Florida          Surfing               NaN  \n",
       "2           10h43            Florida          Surfing               NaN  \n",
       "3             NaN           Victoria          Surfing               NaN  \n",
       "4             NaN           Victoria          Surfing         2 m shark  \n",
       "5             NaN  Western Australia          Fishing               NaN  \n",
       "6           15h15            Florida           Wading    3' to 4' shark  \n",
       "7           14h30             Hawaii         Swimming  Tiger shark, 10?  \n",
       "8           15h40     North Province     Kite surfing               NaN  \n",
       "9  Late afternoon     South Carolina  Boogie boarding               NaN  "
      ]
     },
     "execution_count": 15,
     "metadata": {},
     "output_type": "execute_result"
    }
   ],
   "source": [
    "norm_data.head(10)"
   ]
  },
  {
   "cell_type": "code",
   "execution_count": 16,
   "metadata": {},
   "outputs": [
    {
     "data": {
      "text/plain": [
       "Unprovoked      4386\n",
       "Provoked         557\n",
       "Invalid          519\n",
       "Sea Disaster     220\n",
       "Boat             200\n",
       "Boating          110\n",
       "Name: Type, dtype: int64"
      ]
     },
     "execution_count": 16,
     "metadata": {},
     "output_type": "execute_result"
    }
   ],
   "source": [
    "# TYPE OF INCIDENT - exploratory analysis\n",
    "df['Type'].value_counts()"
   ]
  },
  {
   "cell_type": "code",
   "execution_count": 17,
   "metadata": {},
   "outputs": [
    {
     "data": {
      "text/plain": [
       "M      4837\n",
       "F       585\n",
       "lli       1\n",
       "N         1\n",
       ".         1\n",
       "Name: Sex, dtype: int64"
      ]
     },
     "execution_count": 17,
     "metadata": {},
     "output_type": "execute_result"
    }
   ],
   "source": [
    "# SEX - exploratory analysis\n",
    "df['Sex'].value_counts()\n"
   ]
  },
  {
   "cell_type": "code",
   "execution_count": 18,
   "metadata": {},
   "outputs": [
    {
     "data": {
      "text/plain": [
       "2015    139\n",
       "2011    128\n",
       "2014    125\n",
       "0       124\n",
       "2013    122\n",
       "2008    121\n",
       "2009    120\n",
       "2012    117\n",
       "2007    112\n",
       "2006    103\n",
       "2016    103\n",
       "2005    103\n",
       "2010    101\n",
       "2000     97\n",
       "1959     93\n",
       "1960     93\n",
       "2001     92\n",
       "2004     92\n",
       "2003     92\n",
       "2002     88\n",
       "1962     86\n",
       "1961     78\n",
       "1995     76\n",
       "1964     66\n",
       "1998     65\n",
       "1999     65\n",
       "1996     61\n",
       "1963     61\n",
       "1966     58\n",
       "1997     57\n",
       "       ... \n",
       "1785      1\n",
       "1834      1\n",
       "1791      1\n",
       "1733      1\n",
       "1721      1\n",
       "1637      1\n",
       "1617      1\n",
       "77        1\n",
       "5         1\n",
       "1703      1\n",
       "1755      1\n",
       "1767      1\n",
       "1771      1\n",
       "1779      1\n",
       "1787      1\n",
       "1803      1\n",
       "1749      1\n",
       "1807      1\n",
       "1811      1\n",
       "1819      1\n",
       "1805      1\n",
       "1831      1\n",
       "1555      1\n",
       "1738      1\n",
       "1859      1\n",
       "1742      1\n",
       "1758      1\n",
       "1818      1\n",
       "1822      1\n",
       "1595      1\n",
       "Name: Year, Length: 232, dtype: int64"
      ]
     },
     "execution_count": 18,
     "metadata": {},
     "output_type": "execute_result"
    }
   ],
   "source": [
    "# YEAR - exploratory analysis\n",
    "df['Year'].value_counts()"
   ]
  },
  {
   "cell_type": "code",
   "execution_count": null,
   "metadata": {},
   "outputs": [],
   "source": [
    "'''df.columa.apply(funcion)\n",
    "def funcion(dato):\n",
    "\treturn(nuevo_dato)\n",
    "\n",
    "df.nombre_columna = df[‘nombre_columna’]\n",
    "'''"
   ]
  },
  {
   "cell_type": "code",
   "execution_count": 19,
   "metadata": {},
   "outputs": [
    {
     "ename": "SyntaxError",
     "evalue": "unexpected EOF while parsing (<ipython-input-19-fe1ac07cdbea>, line 6)",
     "output_type": "error",
     "traceback": [
      "\u001b[0;36m  File \u001b[0;32m\"<ipython-input-19-fe1ac07cdbea>\"\u001b[0;36m, line \u001b[0;32m6\u001b[0m\n\u001b[0;31m    if len(df.loc[i,'Year']) < 4:\u001b[0m\n\u001b[0m                                  ^\u001b[0m\n\u001b[0;31mSyntaxError\u001b[0m\u001b[0;31m:\u001b[0m unexpected EOF while parsing\n"
     ]
    }
   ],
   "source": [
    "# YEAR - Data cleaning & manipulation: \n",
    "# identifying nulls and years in different format len(value)!=4\n",
    "# for i in df['Year']\n",
    "# defining a function to clean detecting year format in date column:\n",
    "def cleaning_year(x):\n",
    "    pattern = '[0-9]{4}'\n",
    "    new_x = re.findall(pattern, x)\n",
    "    return new x\n",
    "\n",
    "df.columa.apply(funcion)\n",
    "\n",
    "    \n",
    "#df['Year'].isnull()\n",
    "# defining a function to clean\n",
    "for i in df.index:\n",
    "    if len(df.loc[i,'Year']) < 4: "
   ]
  },
  {
   "cell_type": "code",
   "execution_count": null,
   "metadata": {},
   "outputs": [],
   "source": [
    "# Fatal (Y/N) - exploratory analysis\n",
    "df['Fatal (Y/N)'].value_counts()"
   ]
  },
  {
   "cell_type": "code",
   "execution_count": null,
   "metadata": {},
   "outputs": [],
   "source": [
    "# AGE - exploratory analysis\n",
    "df['Age'].value_counts()"
   ]
  },
  {
   "cell_type": "code",
   "execution_count": null,
   "metadata": {},
   "outputs": [],
   "source": [
    "# COUNTRY - exploratory analysis\n",
    "df['Country'].value_counts()"
   ]
  },
  {
   "cell_type": "code",
   "execution_count": null,
   "metadata": {},
   "outputs": [],
   "source": [
    "# TIME - exploratory analysis\n",
    "df['Time'].value_counts()"
   ]
  },
  {
   "cell_type": "code",
   "execution_count": null,
   "metadata": {},
   "outputs": [],
   "source": [
    "# AREA - exploratory analysis\n",
    "df['Area'].value_counts()"
   ]
  },
  {
   "cell_type": "code",
   "execution_count": null,
   "metadata": {},
   "outputs": [],
   "source": [
    "# ACTIVITY - exploratory analysis\n",
    "df['Activity'].value_counts()"
   ]
  },
  {
   "cell_type": "code",
   "execution_count": null,
   "metadata": {},
   "outputs": [],
   "source": [
    "# SPECIES - exploratory analysis\n",
    "df['Species'].value_counts()"
   ]
  },
  {
   "cell_type": "code",
   "execution_count": null,
   "metadata": {},
   "outputs": [],
   "source": [
    "# Data cleaning & manipulation: (2/8 methods)"
   ]
  },
  {
   "cell_type": "code",
   "execution_count": null,
   "metadata": {},
   "outputs": [],
   "source": [
    "# Data cleaning & manipulation: (3/8 methods)"
   ]
  },
  {
   "cell_type": "code",
   "execution_count": null,
   "metadata": {},
   "outputs": [],
   "source": [
    "# Data cleaning & manipulation: (4/8 methods)"
   ]
  },
  {
   "cell_type": "code",
   "execution_count": null,
   "metadata": {},
   "outputs": [],
   "source": [
    "# Data cleaning & manipulation: (5/8 methods)"
   ]
  },
  {
   "cell_type": "code",
   "execution_count": null,
   "metadata": {},
   "outputs": [],
   "source": [
    "# Data cleaning & manipulation: (6/8 methods)"
   ]
  },
  {
   "cell_type": "code",
   "execution_count": null,
   "metadata": {},
   "outputs": [],
   "source": [
    "# Data cleaning & manipulation: (7/8 methods)\n",
    "# First remove punctuation, spaces, then replace carriage return and convert to lower text:\n",
    "s = re.sub(r'[^\\w\\s]','',poem).replace('\\n', ' ').lower()\n",
    "print (s)\n",
    "# then split to list:\n",
    "list_of_strings = s.split(\" \")\n",
    "print(list_of_strings)\n",
    "\n",
    "\n",
    "# First remove punctuation, spaces, then replace carriage return and convert to lower text and plit:\n",
    "words = re.sub(r'[^\\w\\s]','',poem).replace('\\n', ' ').lower().split()\n",
    "print(words)\n",
    "\n",
    "# Then remove blacklist from words to get a clean list:\n",
    "clean = [w for w in words if w not in blacklist]\n",
    "print(clean)\n",
    "\n",
    "\n",
    "# Then remove duplicated items in clean list to have unique items:\n",
    "unique = set([w for w in words if w not in blacklist])\n",
    "print(unique)\n",
    "\n",
    "# Here we can compare the length of all and see how we have cleaned the data along the process\n",
    "print('poem len was',len(poem),' VS then words list len was',len(words),' VS clean list len was',len(clean),' VS unique len is now',len(unique))\n",
    "\n",
    "pattern =r\"\\w*\\d+\"\n",
    "filtered_data = []\n",
    "for i in data:\n",
    "    if re.search(pattern,i):\n",
    "        temp = re.search(pattern,i)\n",
    "        print(temp)\n",
    "        filtered_data.append(i)\n",
    "    else:\n",
    "        print(i,'NOT MATCH')\n",
    "print (filtered_data)"
   ]
  },
  {
   "cell_type": "code",
   "execution_count": null,
   "metadata": {},
   "outputs": [],
   "source": [
    "# Data cleaning & manipulation: (8/8 methods)\n",
    "# Last step: removing duplicated"
   ]
  },
  {
   "cell_type": "code",
   "execution_count": null,
   "metadata": {},
   "outputs": [],
   "source": [
    "# Exploratory analysis - with cleaned Data"
   ]
  },
  {
   "cell_type": "code",
   "execution_count": null,
   "metadata": {},
   "outputs": [],
   "source": [
    "# Exporting clean data in CSV using Pandas"
   ]
  },
  {
   "cell_type": "markdown",
   "metadata": {},
   "source": [
    "README.md file containing a detailed explanation of the process followed in the importing, cleaning, manipulation, \n",
    "and exporting of your data as well as your results, obstacles encountered, and lessons learned"
   ]
  },
  {
   "cell_type": "code",
   "execution_count": null,
   "metadata": {},
   "outputs": [],
   "source": []
  },
  {
   "cell_type": "code",
   "execution_count": null,
   "metadata": {},
   "outputs": [],
   "source": []
  },
  {
   "cell_type": "code",
   "execution_count": null,
   "metadata": {},
   "outputs": [],
   "source": []
  }
 ],
 "metadata": {
  "kernelspec": {
   "display_name": "Python 3",
   "language": "python",
   "name": "python3"
  },
  "language_info": {
   "codemirror_mode": {
    "name": "ipython",
    "version": 3
   },
   "file_extension": ".py",
   "mimetype": "text/x-python",
   "name": "python",
   "nbconvert_exporter": "python",
   "pygments_lexer": "ipython3",
   "version": "3.6.7"
  }
 },
 "nbformat": 4,
 "nbformat_minor": 2
}
